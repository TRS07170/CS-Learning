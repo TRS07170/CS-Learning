{
  "nbformat": 4,
  "nbformat_minor": 0,
  "metadata": {
    "accelerator": "GPU",
    "colab": {
      "name": "“CNN_StudentCopy_Master_DoNotEdit.ipynb”的副本",
      "provenance": [],
      "collapsed_sections": []
    },
    "kernelspec": {
      "display_name": "Python 3",
      "language": "python",
      "name": "python3"
    },
    "language_info": {
      "codemirror_mode": {
        "name": "ipython",
        "version": 3
      },
      "file_extension": ".py",
      "mimetype": "text/x-python",
      "name": "python",
      "nbconvert_exporter": "python",
      "pygments_lexer": "ipython3",
      "version": "3.8.2"
    }
  },
  "cells": [
    {
      "cell_type": "markdown",
      "metadata": {
        "id": "TiM6gYg0nhkY"
      },
      "source": [
        "<font color=\"#de3023\"><h1><b>REMINDER MAKE A COPY OF THIS NOTEBOOK, DO NOT EDIT</b></h1></font>"
      ]
    },
    {
      "cell_type": "markdown",
      "metadata": {
        "id": "Sq-JhCcLpBwS"
      },
      "source": [
        "#Conscientious Cars 2: Convolutional Neural Nets\n",
        "\n",
        "Welcome back to CC: ConscientiousCars! Today, we'll be improving on our system for distinguishing dogs from roads, so we can keep these cute puppies safe."
      ]
    },
    {
      "cell_type": "code",
      "metadata": {
        "id": "uhNVum16scIW"
      },
      "source": [
        "#@title Run this to load some packages and data! { display-mode: \"form\" }\n",
        "from sklearn.neural_network import MLPClassifier\n",
        "from sklearn.neighbors import KNeighborsClassifier\n",
        "from sklearn import model_selection\n",
        "from sklearn.metrics import accuracy_score\n",
        "from collections import Counter\n",
        "import tensorflow.keras as keras\n",
        "from keras.models import Sequential\n",
        "from keras.layers import Dense, Conv2D, InputLayer\n",
        "from keras.layers import Activation, MaxPooling2D, Dropout, Flatten, Reshape\n",
        "from keras.utils.np_utils import to_categorical \n",
        "from keras.wrappers.scikit_learn import KerasClassifier\n",
        "from sklearn.model_selection import StratifiedKFold\n",
        "from sklearn.model_selection import cross_val_score\n",
        "import numpy as np\n",
        "import pandas as pd\n",
        "import seaborn as sns\n",
        "import matplotlib.pyplot as plt\n",
        "\n",
        "\n",
        "def categorical_to_numpy(labels_in):\n",
        "  labels = []\n",
        "  for label in labels_in:\n",
        "    if label == 'dog':\n",
        "      labels.append(np.array([1, 0]))\n",
        "    else:\n",
        "      labels.append(np.array([0, 1]))\n",
        "  return np.array(labels)\n",
        "\n",
        "\n",
        "def load_data():\n",
        "  # Run this cell to download our data into a file called 'cifar_data'\n",
        "  import gdown\n",
        "  # gdown.download('https://drive.google.com/uc?id=1-BjeqccJdLiBA6PnNinmXSQ6w5BluLem','cifar_data','True'); # dogs v road;\n",
        "  !wget -O cifar_data https://storage.googleapis.com/inspirit-ai-data-bucket-1/Data/AI%20Scholars/Sessions%201%20-%205/Session%204%20_%205%20-%20Neural%20Networks%20_%20CNN/dogs_v_roads\n",
        "\n",
        "  # now load the data from our cloud computer\n",
        "  import pickle\n",
        "  data_dict = pickle.load(open( \"cifar_data\", \"rb\" ));\n",
        "  \n",
        "  data   = data_dict['data']\n",
        "  labels = data_dict['labels']\n",
        "  \n",
        "  return data, labels\n",
        "\n",
        "def plot_one_image(data, labels, img_idx):\n",
        "  from google.colab.patches import cv2_imshow\n",
        "  import cv2\n",
        "  import matplotlib.pyplot as plt\n",
        "  my_img   = data[img_idx, :].squeeze().reshape([32,32,3]).copy()\n",
        "  my_label = labels[img_idx]\n",
        "  print('label: %s'%my_label)\n",
        "  plt.imshow(my_img)\n",
        "  plt.show()\n",
        "  \n",
        "def CNNClassifier(num_epochs=2, layers=1, dropout=0.15):\n",
        "  def create_model():\n",
        "    model = Sequential()\n",
        "    model.add(Reshape((32, 32, 3)))\n",
        "    \n",
        "    for i in range(layers):\n",
        "      model.add(Conv2D(32, (3, 3), padding='same'))\n",
        "      model.add(Activation('relu'))\n",
        "    \n",
        "    model.add(Conv2D(32, (3, 3)))\n",
        "    model.add(Activation('relu'))\n",
        "    model.add(MaxPooling2D(pool_size=(2, 2)))\n",
        "    model.add(Dropout(dropout))\n",
        "\n",
        "    model.add(Conv2D(64, (3, 3), padding='same'))\n",
        "    model.add(Activation('relu'))\n",
        "    model.add(Conv2D(64, (3, 3)))\n",
        "    model.add(Activation('relu'))\n",
        "    model.add(MaxPooling2D(pool_size=(2, 2)))\n",
        "    model.add(Dropout(dropout))\n",
        "\n",
        "    model.add(Flatten())\n",
        "    model.add(Dense(512))\n",
        "    model.add(Activation('relu'))\n",
        "    model.add(Dropout(dropout))\n",
        "    model.add(Dense(2))\n",
        "    model.add(Activation('softmax'))\n",
        "\n",
        "    # initiate RMSprop optimizer\n",
        "    opt = keras.optimizers.RMSprop(learning_rate=0.0001, decay=1e-6)\n",
        "\n",
        "    # Let's train the model using RMSprop\n",
        "    model.compile(loss='categorical_crossentropy',\n",
        "                  optimizer=opt,\n",
        "                  metrics=['accuracy'])\n",
        "    return model\n",
        "  return KerasClassifier(build_fn=create_model, epochs=num_epochs, batch_size=10, verbose=2)\n",
        "\n",
        "def plot_acc(history, ax = None, xlabel = 'Epoch #'):\n",
        "    history = history.history\n",
        "    history.update({'epoch':list(range(len(history['val_accuracy'])))})\n",
        "    history = pd.DataFrame.from_dict(history)\n",
        "\n",
        "    best_epoch = history.sort_values(by = 'val_accuracy', ascending = False).iloc[0]['epoch']\n",
        "\n",
        "    if not ax:\n",
        "      f, ax = plt.subplots(1,1)\n",
        "    sns.lineplot(x = 'epoch', y = 'val_accuracy', data = history, label = 'Validation', ax = ax)\n",
        "    sns.lineplot(x = 'epoch', y = 'accuracy', data = history, label = 'Training', ax = ax)\n",
        "    ax.axhline(0.5, linestyle = '--',color='red', label = 'Chance')\n",
        "    ax.axvline(x = best_epoch, linestyle = '--', color = 'green', label = 'Best Epoch')  \n",
        "    ax.legend(loc = 7)    \n",
        "    ax.set_ylim([0.4, 1])\n",
        "\n",
        "    ax.set_xlabel(xlabel)\n",
        "    ax.set_ylabel('Accuracy (Fraction)')\n",
        "    \n",
        "    plt.show()\n",
        "    \n",
        "def model_to_string(model):\n",
        "    import re\n",
        "    stringlist = []\n",
        "    model.summary(print_fn=lambda x: stringlist.append(x))\n",
        "    sms = \"\\n\".join(stringlist)\n",
        "    sms = re.sub('_\\d\\d\\d','', sms)\n",
        "    sms = re.sub('_\\d\\d','', sms)\n",
        "    sms = re.sub('_\\d','', sms)  \n",
        "    return sms"
      ],
      "execution_count": null,
      "outputs": []
    },
    {
      "cell_type": "markdown",
      "metadata": {
        "id": "wkseZ14ms7vs"
      },
      "source": [
        "In this notebook, we will:\n",
        "\n",
        "- Use a pre-built CNN function to classify roads vs. dogs.\n",
        "- Build neural networks from scratch in Keras.\n",
        "- Experiment with building CNN models from scratch in Keras.\n",
        "- (Advanced, Optional) Build CNN models for distinguishing cats from dogs, and even experiment with implementing a famous architecture!\n"
      ]
    },
    {
      "cell_type": "markdown",
      "metadata": {
        "id": "qMWQRlTqt6Yn"
      },
      "source": [
        "**Change Hardware Accelerator to GPU to train faster (Runtime -> Change Runtime Type -> Hardware Accelerator -> GPU)**"
      ]
    },
    {
      "cell_type": "markdown",
      "metadata": {
        "id": "1QxGsnvhnn8R"
      },
      "source": [
        "#Loading in Data"
      ]
    },
    {
      "cell_type": "markdown",
      "metadata": {
        "id": "btr24O6Hqgo6"
      },
      "source": [
        "Once again, let's load in our dog/road dataset and create our training and test set. **What's the shape of each dataset? Why?**"
      ]
    },
    {
      "cell_type": "code",
      "metadata": {
        "id": "MmZbrZoKnthN",
        "colab": {
          "base_uri": "https://localhost:8080/"
        },
        "outputId": "fc59f17c-06c8-404e-f1f0-47670f86d3fb"
      },
      "source": [
        "# load our data\n",
        "data_raw, labels_raw = load_data()\n",
        "data = data_raw.astype(float)\n",
        "labels = categorical_to_numpy(labels_raw)\n",
        "inputs_train, inputs_test, labels_train, labels_test = model_selection.train_test_split(data, labels, test_size=0.2, random_state=1)\n",
        "\n",
        "#Find the shape of our dataset!\n",
        "### YOUR CODE HERE\n",
        "print(data_raw)\n",
        "### END CODE"
      ],
      "execution_count": null,
      "outputs": [
        {
          "output_type": "stream",
          "name": "stdout",
          "text": [
            "--2021-12-23 17:22:39--  https://storage.googleapis.com/inspirit-ai-data-bucket-1/Data/AI%20Scholars/Sessions%201%20-%205/Session%204%20_%205%20-%20Neural%20Networks%20_%20CNN/dogs_v_roads\n",
            "Resolving storage.googleapis.com (storage.googleapis.com)... 173.194.76.128, 66.102.1.128, 142.251.5.128, ...\n",
            "Connecting to storage.googleapis.com (storage.googleapis.com)|173.194.76.128|:443... connected.\n",
            "HTTP request sent, awaiting response... 200 OK\n",
            "Length: 3689015 (3.5M) [application/octet-stream]\n",
            "Saving to: ‘cifar_data’\n",
            "\n",
            "\rcifar_data            0%[                    ]       0  --.-KB/s               \rcifar_data          100%[===================>]   3.52M  --.-KB/s    in 0.05s   \n",
            "\n",
            "2021-12-23 17:22:39 (65.4 MB/s) - ‘cifar_data’ saved [3689015/3689015]\n",
            "\n",
            "[[ 45  20  19 ...  83  99  31]\n",
            " [101 114  35 ... 155 134  91]\n",
            " [213 221 221 ... 139  58  47]\n",
            " ...\n",
            " [126 174 202 ... 124 128 129]\n",
            " [191 232 240 ...  74  93  81]\n",
            " [237 248 254 ...  45  56  10]]\n"
          ]
        }
      ]
    },
    {
      "cell_type": "markdown",
      "metadata": {
        "id": "VcZra2S0NNSZ"
      },
      "source": [
        "Use the cell below as a reminder of what the data looks like."
      ]
    },
    {
      "cell_type": "code",
      "metadata": {
        "id": "B83F3CmPNSux",
        "colab": {
          "base_uri": "https://localhost:8080/",
          "height": 283
        },
        "outputId": "8ee357e7-4505-4efc-be5b-7adc3e975406"
      },
      "source": [
        "plot_one_image(data_raw, labels_raw, 0) # change this number"
      ],
      "execution_count": null,
      "outputs": [
        {
          "output_type": "stream",
          "name": "stdout",
          "text": [
            "label: dog\n"
          ]
        },
        {
          "output_type": "display_data",
          "data": {
            "image/png": "[encoded data removed]",
            "text/plain": [
              "<Figure size 432x288 with 1 Axes>"
            ]
          },
          "metadata": {
            "needs_background": "light"
          }
        }
      ]
    },
    {
      "cell_type": "markdown",
      "metadata": {
        "id": "37O_VE_D1Bdy"
      },
      "source": [
        "# Models for Vision: Convolutional Neural Networks"
      ]
    },
    {
      "cell_type": "markdown",
      "metadata": {
        "id": "GqrfI4JiVeFr"
      },
      "source": [
        "###Exercise: Exploring Hyperparameters ✍️\n",
        "\n",
        "As you know, there is a famous type of neural network known as convolutional neural networks (CNNs). These types of neural networks work particularly well on problems to do with computer vision. Let's try one out!\n",
        "\n",
        "To load up a simple CNN on scikit-learn, just run:\n",
        "\n",
        "`cnn = CNNClassifier(num_epochs, layers, dropout)`\n",
        "\n",
        "Work with your instructors to review what each parameter means and how it affects the model! The value for **dropout** is a float between 0 and 1 that represents the probability the weight for a neuron in the layer is set to 0 during training time. Each neuron in the layer is evaluated as such, which can help prevent overfitting.\n",
        "\n",
        "**Try different values of num_epochs, layers, and dropout so that you get the best possible accuracy on the test set using `model.score()`**!"
      ]
    },
    {
      "cell_type": "code",
      "metadata": {
        "id": "bmC3-T4KRJgW",
        "colab": {
          "base_uri": "https://localhost:8080/"
        },
        "outputId": "8d7a2aeb-8812-4f77-a9a8-85f9c781cb40"
      },
      "source": [
        "cnn = CNNClassifier(5, 2, 0.5)\n",
        "cnn.fit(inputs_train, labels_train)\n",
        "preds = cnn.predict(inputs_test)\n",
        "print (cnn.score(inputs_test, labels_test))"
      ],
      "execution_count": null,
      "outputs": [
        {
          "output_type": "stream",
          "name": "stderr",
          "text": [
            "/usr/local/lib/python3.7/dist-packages/ipykernel_launcher.py:92: DeprecationWarning: KerasClassifier is deprecated, use Sci-Keras (https://github.com/adriangb/scikeras) instead.\n"
          ]
        },
        {
          "output_type": "stream",
          "name": "stdout",
          "text": [
            "Epoch 1/5\n",
            "96/96 - 14s - loss: 6.5722 - accuracy: 0.5875 - 14s/epoch - 150ms/step\n",
            "Epoch 2/5\n",
            "96/96 - 1s - loss: 1.5395 - accuracy: 0.7104 - 759ms/epoch - 8ms/step\n",
            "Epoch 3/5\n",
            "96/96 - 1s - loss: 0.7299 - accuracy: 0.7729 - 704ms/epoch - 7ms/step\n",
            "Epoch 4/5\n",
            "96/96 - 1s - loss: 0.5036 - accuracy: 0.8260 - 706ms/epoch - 7ms/step\n",
            "Epoch 5/5\n",
            "96/96 - 1s - loss: 0.3350 - accuracy: 0.8698 - 698ms/epoch - 7ms/step\n",
            "24/24 - 0s - loss: 0.1518 - accuracy: 0.9458 - 461ms/epoch - 19ms/step\n",
            "0.9458333253860474\n"
          ]
        }
      ]
    },
    {
      "cell_type": "code",
      "metadata": {
        "id": "dSwghlVU4WTy",
        "colab": {
          "base_uri": "https://localhost:8080/"
        },
        "outputId": "ba7ca2a8-37eb-4f02-e285-23b6ab7c39ac"
      },
      "source": [
        "### YOUR CODE HERE\n",
        "cnn = CNNClassifier(7, 1, 0.3)\n",
        "cnn.fit(inputs_train, labels_train)\n",
        "preds = cnn.predict(inputs_test)\n",
        "print (cnn.score(inputs_test, labels_test))\n",
        "### END CODE"
      ],
      "execution_count": null,
      "outputs": [
        {
          "output_type": "stream",
          "name": "stderr",
          "text": [
            "/usr/local/lib/python3.7/dist-packages/ipykernel_launcher.py:92: DeprecationWarning: KerasClassifier is deprecated, use Sci-Keras (https://github.com/adriangb/scikeras) instead.\n"
          ]
        },
        {
          "output_type": "stream",
          "name": "stdout",
          "text": [
            "Epoch 1/7\n",
            "96/96 - 2s - loss: 6.9892 - accuracy: 0.6604 - 2s/epoch - 22ms/step\n",
            "Epoch 2/7\n",
            "96/96 - 1s - loss: 1.1040 - accuracy: 0.8000 - 643ms/epoch - 7ms/step\n",
            "Epoch 3/7\n",
            "96/96 - 1s - loss: 0.4842 - accuracy: 0.8719 - 615ms/epoch - 6ms/step\n",
            "Epoch 4/7\n",
            "96/96 - 1s - loss: 0.3069 - accuracy: 0.9052 - 617ms/epoch - 6ms/step\n",
            "Epoch 5/7\n",
            "96/96 - 1s - loss: 0.2857 - accuracy: 0.9115 - 618ms/epoch - 6ms/step\n",
            "Epoch 6/7\n",
            "96/96 - 1s - loss: 0.2704 - accuracy: 0.9062 - 610ms/epoch - 6ms/step\n",
            "Epoch 7/7\n",
            "96/96 - 1s - loss: 0.2277 - accuracy: 0.9135 - 611ms/epoch - 6ms/step\n",
            "24/24 - 0s - loss: 0.1416 - accuracy: 0.9500 - 249ms/epoch - 10ms/step\n",
            "0.949999988079071\n"
          ]
        }
      ]
    },
    {
      "cell_type": "markdown",
      "metadata": {
        "id": "KGWpgsVXP1ut"
      },
      "source": [
        "**How well did your neural network perform?** \n",
        "\n",
        "CNNs typically perform better than fully-connected neural networks on vision problems, but, as before, they aren't always consistent. They are also sensitive to a number of parameters. "
      ]
    },
    {
      "cell_type": "markdown",
      "metadata": {
        "id": "c-XRh5Y5P_CL"
      },
      "source": [
        "## Training and Validation Curves\n",
        "\n",
        "An important aspect of training neural networks is to prevent overfitting. **How would we recognize overfitting?**\n",
        "\n",
        "In the first line of code below, we first **fit** the model on the training data and pass in some validation (or test) data to evaluate it. We call it the **history** because we want to retain information about the accuracy at each epoch.\n",
        "\n",
        "In the second line we plot the history so that we can compare the training and validation accuracies.  \n",
        "\n",
        "```\n",
        "history = model.fit(inputs_train, labels_train, validation_data=(inputs_test, labels_test))\n",
        "plot_acc(history)\n",
        "```\n",
        "\n"
      ]
    },
    {
      "cell_type": "markdown",
      "metadata": {
        "id": "8eaFvE2PQEFe"
      },
      "source": [
        "###Exercise: Plotting a training vs. validation curve for our CNN ✍️\n",
        "\n",
        "**After how many epochs does the model begin to overfit? How does this vary as you vary the number of hidden layers and dropout?** Overfitting occurs when the validation accuracy starts to drop below the training accuracy."
      ]
    },
    {
      "cell_type": "code",
      "metadata": {
        "id": "OsVAasDbjARJ",
        "colab": {
          "base_uri": "https://localhost:8080/",
          "height": 821
        },
        "outputId": "803561b9-dc9d-49b5-bce4-ab1ac615ec3f"
      },
      "source": [
        "### YOUR CODE HERE\n",
        "cnn = CNNClassifier(15, 1, 0.3)\n",
        "history = cnn.fit(inputs_train, labels_train, validation_data=(inputs_test, labels_test))\n",
        "plot_acc(history)\n",
        "### END CODE"
      ],
      "execution_count": null,
      "outputs": [
        {
          "output_type": "stream",
          "name": "stderr",
          "text": [
            "/usr/local/lib/python3.7/dist-packages/ipykernel_launcher.py:92: DeprecationWarning: KerasClassifier is deprecated, use Sci-Keras (https://github.com/adriangb/scikeras) instead.\n"
          ]
        },
        {
          "output_type": "stream",
          "name": "stdout",
          "text": [
            "Epoch 1/15\n",
            "96/96 - 2s - loss: 4.2939 - accuracy: 0.6750 - val_loss: 0.2448 - val_accuracy: 0.9125 - 2s/epoch - 24ms/step\n",
            "Epoch 2/15\n",
            "96/96 - 1s - loss: 0.9786 - accuracy: 0.8125 - val_loss: 0.2995 - val_accuracy: 0.8833 - 817ms/epoch - 9ms/step\n",
            "Epoch 3/15\n",
            "96/96 - 1s - loss: 0.4653 - accuracy: 0.8771 - val_loss: 0.1416 - val_accuracy: 0.9500 - 785ms/epoch - 8ms/step\n",
            "Epoch 4/15\n",
            "96/96 - 1s - loss: 0.3377 - accuracy: 0.9052 - val_loss: 0.1243 - val_accuracy: 0.9542 - 703ms/epoch - 7ms/step\n",
            "Epoch 5/15\n",
            "96/96 - 1s - loss: 0.2554 - accuracy: 0.9187 - val_loss: 0.1328 - val_accuracy: 0.9625 - 769ms/epoch - 8ms/step\n",
            "Epoch 6/15\n",
            "96/96 - 1s - loss: 0.2269 - accuracy: 0.9281 - val_loss: 0.1487 - val_accuracy: 0.9500 - 777ms/epoch - 8ms/step\n",
            "Epoch 7/15\n",
            "96/96 - 1s - loss: 0.2273 - accuracy: 0.9219 - val_loss: 0.1584 - val_accuracy: 0.9458 - 705ms/epoch - 7ms/step\n",
            "Epoch 8/15\n",
            "96/96 - 1s - loss: 0.1818 - accuracy: 0.9375 - val_loss: 0.1381 - val_accuracy: 0.9583 - 793ms/epoch - 8ms/step\n",
            "Epoch 9/15\n",
            "96/96 - 1s - loss: 0.1573 - accuracy: 0.9500 - val_loss: 0.1824 - val_accuracy: 0.9375 - 719ms/epoch - 7ms/step\n",
            "Epoch 10/15\n",
            "96/96 - 1s - loss: 0.1590 - accuracy: 0.9479 - val_loss: 0.1690 - val_accuracy: 0.9500 - 697ms/epoch - 7ms/step\n",
            "Epoch 11/15\n",
            "96/96 - 1s - loss: 0.1300 - accuracy: 0.9521 - val_loss: 0.1298 - val_accuracy: 0.9583 - 714ms/epoch - 7ms/step\n",
            "Epoch 12/15\n",
            "96/96 - 1s - loss: 0.1438 - accuracy: 0.9531 - val_loss: 0.1228 - val_accuracy: 0.9500 - 770ms/epoch - 8ms/step\n",
            "Epoch 13/15\n",
            "96/96 - 1s - loss: 0.1331 - accuracy: 0.9677 - val_loss: 0.1577 - val_accuracy: 0.9542 - 701ms/epoch - 7ms/step\n",
            "Epoch 14/15\n",
            "96/96 - 1s - loss: 0.1430 - accuracy: 0.9521 - val_loss: 0.1218 - val_accuracy: 0.9708 - 774ms/epoch - 8ms/step\n",
            "Epoch 15/15\n",
            "96/96 - 1s - loss: 0.0923 - accuracy: 0.9635 - val_loss: 0.1510 - val_accuracy: 0.9583 - 696ms/epoch - 7ms/step\n"
          ]
        },
        {
          "output_type": "display_data",
          "data": {
            "image/png": "[encoded data removed]",
            "text/plain": [
              "<Figure size 432x288 with 1 Axes>"
            ]
          },
          "metadata": {
            "needs_background": "light"
          }
        }
      ]
    },
    {
      "cell_type": "markdown",
      "metadata": {
        "id": "76z4NAY6afd7"
      },
      "source": [
        "# Building Neural Networks from Scratch in Keras \n",
        "\n",
        "So far, we've used helper functions which pre-build Keras neural network models. Now, we will build them on our own!\n",
        "\n",
        "Let's start with a \"toy example\": a tiny neural network with just three numerical inputs.\n"
      ]
    },
    {
      "cell_type": "markdown",
      "metadata": {
        "id": "jdngkAX_aCVu"
      },
      "source": [
        "###Exercise: Building a Simple Neural Network using Keras! ✍️\n",
        "\n"
      ]
    },
    {
      "cell_type": "markdown",
      "metadata": {
        "id": "Bj-Pt3wGCXRu"
      },
      "source": [
        "\n",
        "We're going to build this model: \n",
        "\n",
        "![](http://cs231n.github.io/assets/nn1/neural_net.jpeg)"
      ]
    },
    {
      "cell_type": "markdown",
      "metadata": {
        "id": "H-6WGeedvTCS"
      },
      "source": [
        "This network can be described as: \n",
        "* Input Layer: 3 neurons\n",
        "* Layer 1 (Hidden): 4 neurons that are activated by `'relu'`\n",
        "* Layer 2 (Output): 2 neurons that are activated by `'softmax'`\n",
        "\n",
        "\n",
        "We also want to compile the model with\n",
        "`loss = 'categorical_crossentropy'`\n",
        "\n",
        "What does this represent? Here's one way to interpret it:\n",
        "* This model classifies animals as \"cat\" or \"dog\"\n",
        "* Our three inputs are height, weight, and age\n",
        "* Our ouputs represent \"probability of cat\" and \"probability of dog\"\n",
        "* Because this is a toy example, we aren't actually training the model here - just using randomly initialized weights! We will train later models in this notebook.\n",
        "\n",
        "Try filling in the blanks below and walking through each line! **If you want a hint or more details, check out the optional reference below.**"
      ]
    },
    {
      "cell_type": "code",
      "metadata": {
        "id": "dp-g9qotbRPU",
        "colab": {
          "base_uri": "https://localhost:8080/"
        },
        "outputId": "97a84841-f87e-46b3-c8d8-572acdb799bf"
      },
      "source": [
        "# Fill in the blanks with your group!\n",
        "### YOUR CODE HERE:\n",
        "model_1 = Sequential()\n",
        "model_1.add(InputLayer(input_shape=(3,)))\n",
        "model_1.add(Dense(4, activation = 'relu'))\n",
        "model_1.add(Dense(2, activation = 'softmax'))\n",
        "model_1.compile(loss='categorical_crossentropy',\n",
        "                optimizer = 'adam', \n",
        "                metrics = ['accuracy'])\n",
        "model_1.predict([[14,18,5]]) #Try any input! This represents an animal of height 14, weight 18, and age 5.\n",
        "### END CODE"
      ],
      "execution_count": null,
      "outputs": [
        {
          "output_type": "execute_result",
          "data": {
            "text/plain": [
              "array([[1.5739681e-05, 9.9998426e-01]], dtype=float32)"
            ]
          },
          "metadata": {},
          "execution_count": 19
        }
      ]
    },
    {
      "cell_type": "markdown",
      "metadata": {
        "id": "baWZ9zXtF2Cz"
      },
      "source": [
        "**Discuss:** How would you interpret this output? Does our (untrained) network classify this as a cat or a dog?"
      ]
    },
    {
      "cell_type": "markdown",
      "metadata": {
        "id": "781M4IyhssuA"
      },
      "source": [
        "####**Optional Reference**\n",
        "\n",
        "Here's some information about each step of the process. **You don't need to read through all this - check it as a reference if needed!**\n",
        "\n",
        "**1. Specify model**\n",
        "\n",
        "```\n",
        "model = Sequential()\n",
        "```\n",
        "In this line of code, we build our network where the information flows from LEFT to RIGHT through the network in ONE DIRECTION as opposed to multiple directions. Neurons on the right never pass informations to neurons on the left of it. \n",
        "\n",
        "\n",
        "**2. Add layers to the network**\n",
        "```\n",
        "model.add(Dense(4, activation = 'sigmoid'))\n",
        "```\n",
        "In this code, we add a layer of neurons to our network. \n",
        "\n",
        "This layers consists of 4 neurons. Each neuron is DENSE and connects to all of the previous layer's inputs and all of the subsequent layers outputs. We specify that there are 3 inputs here.\n",
        "\n",
        "We also specify what kind of output the neuron will give. If you want the neuron to output a number between 0 and 1 (like a probability!) you would use 'softmax' or 'sigmoid'. If you want the neuron to output any number, you can use 'linear'! You'll also often see 'relu', which is when a neuron will only output positive numbers. \n",
        "\n",
        "```\n",
        "model.add(Dense(1, activation = 'linear'))\n",
        "```\n",
        "This code adds ANOTHER layer to the network that has 1 neuron. This one neuron is used to predict a continuous value!\n",
        "\n",
        "**3. Turn the model on by compiling it** \n",
        "\n",
        "After having built the network, we want to train and use it, so we have to 'compile' it to prepare. We have to specify at the very least: a loss (how the model measures the quality of its weights), an optimizer (which adjusts the weights), and a metric (how to evaluate our results). Here are some common choices:\n",
        "```\n",
        "model.compile(loss='mean_squared_error',\n",
        "optimizer = 'adam',\n",
        "metrics = ['mean_squared_error'])\n",
        "  ```\n",
        "\n",
        "Once we've created our network, we can use it very simply! Just like we did with sklearn, we define our input data (x), the true predictions from that data (y), and then train our model with `fit`. \n",
        "\n",
        "```\n",
        "model.fit(x, y)\n",
        "```\n",
        "\n",
        "To use the model, you can use it to predict something with:\n",
        "```\n",
        "y = model.predict(x)\n",
        "```\n",
        "\n",
        "You can actually use the model before you even train it! It just won't perform very well. "
      ]
    },
    {
      "cell_type": "markdown",
      "metadata": {
        "id": "YovNRgfuy0Oq"
      },
      "source": [
        "###(Optional) Exercise: Building a Multi-layer Neural Net using Keras ✍️\n",
        "\n",
        "![](http://cs231n.github.io/assets/nn1/neural_net2.jpeg)\n",
        "\n",
        "Let's try another, bigger example!\n",
        "\n",
        "Here, we are predicting a house price: regression! Our inputs could be \"year the house was built\", \"home square footage\", and \"lot square footage\", while our output is price (in thousands of dollars).\n",
        "\n",
        "* Input Layer: 3 neurons\n",
        "\n",
        "* Layer 1: 4 neurons that are activated by `'relu' `and take in 3 inputs.\n",
        "\n",
        "* Layer 2: 4 neurons that are activated by `'relu'`\n",
        "\n",
        "* Layer 3 (out): 1 neuron that is activated by `'relu'`\n",
        "\n",
        "Compile the model with\n",
        "`'mean_squared_error'` as both loss and metric, and try making a prediction for some made-up data.\n"
      ]
    },
    {
      "cell_type": "code",
      "metadata": {
        "id": "pm-ylEWqbXrQ",
        "colab": {
          "base_uri": "https://localhost:8080/"
        },
        "outputId": "df2840e5-824e-40be-8831-75406605df36"
      },
      "source": [
        "### YOUR CODE HERE\n",
        "model_1 = Sequential()\n",
        "model_1.add(InputLayer(input_shape=(3072,)))\n",
        "model_1.add(Dense(4, activation = 'relu'))\n",
        "model_1.add(Dense(4, activation = 'relu'))\n",
        "model_1.add(Dense(2, activation = 'relu'))\n",
        "model_1.compile(loss='mean_squared_error',\n",
        "                optimizer = 'adam', \n",
        "                metrics = ['mean_squared_error'])\n",
        "model_1.predict([[14,18,5]]) #Try any input! This represents an animal of height 14, weight 18, and age 5.\n",
        "### END CODE"
      ],
      "execution_count": null,
      "outputs": [
        {
          "output_type": "execute_result",
          "data": {
            "text/plain": [
              "array([[0.]], dtype=float32)"
            ]
          },
          "metadata": {},
          "execution_count": 20
        }
      ]
    },
    {
      "cell_type": "markdown",
      "metadata": {
        "id": "YVCmntRHRjPQ"
      },
      "source": [
        "###(Optional) Exercise: Dogs vs. Roads using Keras\n",
        "\n",
        "Let's try an even bigger example! Here, we are going to distinguish between images of dogs and roads once again. \n",
        "\n",
        "* Input Layer: 3072 dimensions (32 pixels x 32 pixels x 3 color channels)\n",
        "\n",
        "* Layer 1: 32 neurons that are activated by `'relu' `and take in 3 inputs.\n",
        "\n",
        "* Layer 2: 16 neurons that are activated by `'relu'`\n",
        "\n",
        "* Layer 3 (out): 2 neurons that is activated by `'sigmoid'`\n",
        "\n",
        "Compile the model with\n",
        "`loss = 'binary_crossentropy'`, and try making predictions on `inputs_train`!\n",
        "\n",
        "Once again, we are not actually training this model - so the preditions won't be any good. Soon we will create a CNN, which we will train!"
      ]
    },
    {
      "cell_type": "code",
      "metadata": {
        "id": "DD2Dc4AYR31r"
      },
      "source": [
        "### YOUR CODE HERE\n",
        "\n",
        "### END CODE"
      ],
      "execution_count": null,
      "outputs": []
    },
    {
      "cell_type": "markdown",
      "metadata": {
        "id": "QCbD6siv-Ip-"
      },
      "source": [
        "##Exercise: Building a CNN using Keras! ✍️\n",
        "\n",
        "Now that we know how to build simple neural networks in Keras, let's build a CNN! The CNN will perform well on our data set of car and road images. \n",
        "\n",
        "Below is Keras code for a CNN. It will run as-is on the conscientious cars dataset. Add more layers and change the neural network hyperparameters so that the performance will be better. **Can you get the train and validation accuracy to both be higher than 95%?**\n",
        "\n",
        "The Keras core layer API may be a useful reference: https://keras.io/layers/core/ \n",
        "\n",
        "In particular and in addition to adding more of the existing convolutional layers and activations, consider using the following layers after a convolution + activation:\n",
        "\n",
        "`Dropout(N)`\n",
        "\n",
        "`MaxPooling2D(pool_size=(N, N))`\n"
      ]
    },
    {
      "cell_type": "code",
      "metadata": {
        "id": "LFVHyPKn-V4N",
        "colab": {
          "base_uri": "https://localhost:8080/",
          "height": 1000
        },
        "outputId": "29e5fcde-d247-473e-d4ac-719c5ba3ca83"
      },
      "source": [
        "model = Sequential()\n",
        "model.add(Reshape((32, 32, 3)))\n",
        "\n",
        "model.add(Conv2D(32, (3, 3), padding='same'))\n",
        "model.add(Activation('relu'))\n",
        "model.add(MaxPooling2D(pool_size=(2, 2)))\n",
        "\n",
        "###\n",
        "###\n",
        "### TODO: ADD MORE LAYERS HERE!!!!!\n",
        "###\n",
        "###\n",
        "\n",
        "model.add(Conv2D(24, (3, 3), padding='same'))\n",
        "model.add(Activation('relu'))\n",
        "model.add(MaxPooling2D(pool_size=(3, 3)))\n",
        "\n",
        "model.add(Flatten())\n",
        "model.add(Dense(512))\n",
        "model.add(Activation('relu'))\n",
        "model.add(Dense(2))\n",
        "model.add(Activation('softmax'))\n",
        "\n",
        "# initiate RMSprop optimizer\n",
        "opt = keras.optimizers.RMSprop(learning_rate=0.0001, decay=1e-6)\n",
        "\n",
        "# Let's train the model using RMSprop\n",
        "model.compile(loss='categorical_crossentropy',\n",
        "              optimizer=opt,\n",
        "              metrics=['accuracy'])\n",
        "\n",
        "# Train the CNN and plot accuracy.\n",
        "history = model.fit(inputs_train, labels_train, \\\n",
        "                    validation_data=(inputs_test, labels_test), \\\n",
        "                    epochs=70)\n",
        "plot_acc(history)\n"
      ],
      "execution_count": null,
      "outputs": [
        {
          "output_type": "stream",
          "name": "stdout",
          "text": [
            "Epoch 1/70\n",
            "30/30 [==============================] - 1s 17ms/step - loss: 6.0882 - accuracy: 0.6802 - val_loss: 2.3176 - val_accuracy: 0.7958\n",
            "Epoch 2/70\n",
            "30/30 [==============================] - 0s 9ms/step - loss: 2.3399 - accuracy: 0.8083 - val_loss: 1.4805 - val_accuracy: 0.8500\n",
            "Epoch 3/70\n",
            "30/30 [==============================] - 0s 9ms/step - loss: 1.9087 - accuracy: 0.8406 - val_loss: 0.6643 - val_accuracy: 0.9083\n",
            "Epoch 4/70\n",
            "30/30 [==============================] - 0s 8ms/step - loss: 1.2482 - accuracy: 0.8677 - val_loss: 0.7463 - val_accuracy: 0.9000\n",
            "Epoch 5/70\n",
            "30/30 [==============================] - 0s 9ms/step - loss: 1.1606 - accuracy: 0.8781 - val_loss: 0.4844 - val_accuracy: 0.9208\n",
            "Epoch 6/70\n",
            "30/30 [==============================] - 0s 8ms/step - loss: 1.0714 - accuracy: 0.8875 - val_loss: 0.4776 - val_accuracy: 0.9417\n",
            "Epoch 7/70\n",
            "30/30 [==============================] - 0s 9ms/step - loss: 0.9009 - accuracy: 0.9031 - val_loss: 1.0643 - val_accuracy: 0.8625\n",
            "Epoch 8/70\n",
            "30/30 [==============================] - 0s 10ms/step - loss: 0.3500 - accuracy: 0.9427 - val_loss: 5.2725 - val_accuracy: 0.6167\n",
            "Epoch 9/70\n",
            "30/30 [==============================] - 0s 8ms/step - loss: 0.7011 - accuracy: 0.9094 - val_loss: 1.3358 - val_accuracy: 0.8667\n",
            "Epoch 10/70\n",
            "30/30 [==============================] - 0s 9ms/step - loss: 0.6462 - accuracy: 0.9104 - val_loss: 0.3834 - val_accuracy: 0.9375\n",
            "Epoch 11/70\n",
            "30/30 [==============================] - 0s 10ms/step - loss: 0.3170 - accuracy: 0.9385 - val_loss: 1.3751 - val_accuracy: 0.8250\n",
            "Epoch 12/70\n",
            "30/30 [==============================] - 0s 10ms/step - loss: 0.3627 - accuracy: 0.9406 - val_loss: 0.5713 - val_accuracy: 0.9250\n",
            "Epoch 13/70\n",
            "30/30 [==============================] - 0s 9ms/step - loss: 0.2854 - accuracy: 0.9521 - val_loss: 0.6999 - val_accuracy: 0.8833\n",
            "Epoch 14/70\n",
            "30/30 [==============================] - 0s 10ms/step - loss: 0.2556 - accuracy: 0.9573 - val_loss: 0.5604 - val_accuracy: 0.8958\n",
            "Epoch 15/70\n",
            "30/30 [==============================] - 0s 10ms/step - loss: 0.2372 - accuracy: 0.9594 - val_loss: 0.5180 - val_accuracy: 0.9042\n",
            "Epoch 16/70\n",
            "30/30 [==============================] - 0s 8ms/step - loss: 0.2542 - accuracy: 0.9542 - val_loss: 0.3706 - val_accuracy: 0.9417\n",
            "Epoch 17/70\n",
            "30/30 [==============================] - 0s 8ms/step - loss: 0.0977 - accuracy: 0.9792 - val_loss: 0.5019 - val_accuracy: 0.9125\n",
            "Epoch 18/70\n",
            "30/30 [==============================] - 0s 8ms/step - loss: 0.2462 - accuracy: 0.9719 - val_loss: 0.4100 - val_accuracy: 0.9333\n",
            "Epoch 19/70\n",
            "30/30 [==============================] - 0s 9ms/step - loss: 0.1008 - accuracy: 0.9698 - val_loss: 0.3866 - val_accuracy: 0.9417\n",
            "Epoch 20/70\n",
            "30/30 [==============================] - 0s 8ms/step - loss: 0.1433 - accuracy: 0.9708 - val_loss: 0.4056 - val_accuracy: 0.9333\n",
            "Epoch 21/70\n",
            "30/30 [==============================] - 0s 10ms/step - loss: 0.1052 - accuracy: 0.9802 - val_loss: 0.3688 - val_accuracy: 0.9458\n",
            "Epoch 22/70\n",
            "30/30 [==============================] - 0s 10ms/step - loss: 0.1073 - accuracy: 0.9812 - val_loss: 0.3913 - val_accuracy: 0.9292\n",
            "Epoch 23/70\n",
            "30/30 [==============================] - 0s 10ms/step - loss: 0.0261 - accuracy: 0.9906 - val_loss: 0.4741 - val_accuracy: 0.9375\n",
            "Epoch 24/70\n",
            "30/30 [==============================] - 0s 8ms/step - loss: 0.0813 - accuracy: 0.9865 - val_loss: 2.2336 - val_accuracy: 0.7833\n",
            "Epoch 25/70\n",
            "30/30 [==============================] - 0s 8ms/step - loss: 0.0524 - accuracy: 0.9917 - val_loss: 0.3889 - val_accuracy: 0.9375\n",
            "Epoch 26/70\n",
            "30/30 [==============================] - 0s 9ms/step - loss: 0.0692 - accuracy: 0.9844 - val_loss: 0.4870 - val_accuracy: 0.9250\n",
            "Epoch 27/70\n",
            "30/30 [==============================] - 0s 8ms/step - loss: 0.0034 - accuracy: 0.9990 - val_loss: 0.5129 - val_accuracy: 0.9208\n",
            "Epoch 28/70\n",
            "30/30 [==============================] - 0s 9ms/step - loss: 0.1188 - accuracy: 0.9802 - val_loss: 0.4847 - val_accuracy: 0.9208\n",
            "Epoch 29/70\n",
            "30/30 [==============================] - 0s 8ms/step - loss: 0.0021 - accuracy: 1.0000 - val_loss: 0.5145 - val_accuracy: 0.9167\n",
            "Epoch 30/70\n",
            "30/30 [==============================] - 0s 8ms/step - loss: 0.0912 - accuracy: 0.9844 - val_loss: 0.4971 - val_accuracy: 0.9208\n",
            "Epoch 31/70\n",
            "30/30 [==============================] - 0s 8ms/step - loss: 0.0013 - accuracy: 1.0000 - val_loss: 0.4570 - val_accuracy: 0.9250\n",
            "Epoch 32/70\n",
            "30/30 [==============================] - 0s 10ms/step - loss: 0.0630 - accuracy: 0.9927 - val_loss: 0.6780 - val_accuracy: 0.8958\n",
            "Epoch 33/70\n",
            "30/30 [==============================] - 0s 8ms/step - loss: 0.0031 - accuracy: 0.9990 - val_loss: 0.4603 - val_accuracy: 0.9292\n",
            "Epoch 34/70\n",
            "30/30 [==============================] - 0s 9ms/step - loss: 0.0011 - accuracy: 0.9990 - val_loss: 2.4745 - val_accuracy: 0.7833\n",
            "Epoch 35/70\n",
            "30/30 [==============================] - 0s 9ms/step - loss: 0.0724 - accuracy: 0.9854 - val_loss: 0.4414 - val_accuracy: 0.9417\n",
            "Epoch 36/70\n",
            "30/30 [==============================] - 0s 8ms/step - loss: 2.9591e-04 - accuracy: 1.0000 - val_loss: 0.4407 - val_accuracy: 0.9375\n",
            "Epoch 37/70\n",
            "30/30 [==============================] - 0s 9ms/step - loss: 0.1056 - accuracy: 0.9875 - val_loss: 0.4593 - val_accuracy: 0.9375\n",
            "Epoch 38/70\n",
            "30/30 [==============================] - 0s 9ms/step - loss: 3.7582e-04 - accuracy: 1.0000 - val_loss: 0.4623 - val_accuracy: 0.9250\n",
            "Epoch 39/70\n",
            "30/30 [==============================] - 0s 10ms/step - loss: 2.0264e-04 - accuracy: 1.0000 - val_loss: 0.4453 - val_accuracy: 0.9417\n",
            "Epoch 40/70\n",
            "30/30 [==============================] - 0s 8ms/step - loss: 0.0992 - accuracy: 0.9917 - val_loss: 0.4531 - val_accuracy: 0.9542\n",
            "Epoch 41/70\n",
            "30/30 [==============================] - 0s 8ms/step - loss: 5.7832e-04 - accuracy: 1.0000 - val_loss: 0.4204 - val_accuracy: 0.9375\n",
            "Epoch 42/70\n",
            "30/30 [==============================] - 0s 9ms/step - loss: 1.2333e-04 - accuracy: 1.0000 - val_loss: 0.4166 - val_accuracy: 0.9375\n",
            "Epoch 43/70\n",
            "30/30 [==============================] - 0s 8ms/step - loss: 8.7059e-05 - accuracy: 1.0000 - val_loss: 0.4506 - val_accuracy: 0.9250\n",
            "Epoch 44/70\n",
            "30/30 [==============================] - 0s 8ms/step - loss: 0.0475 - accuracy: 0.9885 - val_loss: 0.3971 - val_accuracy: 0.9500\n",
            "Epoch 45/70\n",
            "30/30 [==============================] - 0s 9ms/step - loss: 1.1001e-04 - accuracy: 1.0000 - val_loss: 0.4117 - val_accuracy: 0.9333\n",
            "Epoch 46/70\n",
            "30/30 [==============================] - 0s 9ms/step - loss: 9.9641e-05 - accuracy: 1.0000 - val_loss: 0.4074 - val_accuracy: 0.9500\n",
            "Epoch 47/70\n",
            "30/30 [==============================] - 0s 9ms/step - loss: 0.0788 - accuracy: 0.9875 - val_loss: 0.4861 - val_accuracy: 0.9375\n",
            "Epoch 48/70\n",
            "30/30 [==============================] - 0s 10ms/step - loss: 4.6952e-04 - accuracy: 1.0000 - val_loss: 0.4820 - val_accuracy: 0.9375\n",
            "Epoch 49/70\n",
            "30/30 [==============================] - 0s 10ms/step - loss: 7.1212e-05 - accuracy: 1.0000 - val_loss: 0.4824 - val_accuracy: 0.9417\n",
            "Epoch 50/70\n",
            "30/30 [==============================] - 0s 9ms/step - loss: 5.1074e-05 - accuracy: 1.0000 - val_loss: 0.4696 - val_accuracy: 0.9417\n",
            "Epoch 51/70\n",
            "30/30 [==============================] - 0s 8ms/step - loss: 0.0601 - accuracy: 0.9917 - val_loss: 0.5372 - val_accuracy: 0.9292\n",
            "Epoch 52/70\n",
            "30/30 [==============================] - 0s 9ms/step - loss: 5.1741e-05 - accuracy: 1.0000 - val_loss: 0.5153 - val_accuracy: 0.9375\n",
            "Epoch 53/70\n",
            "30/30 [==============================] - 0s 9ms/step - loss: 3.3600e-05 - accuracy: 1.0000 - val_loss: 0.5075 - val_accuracy: 0.9333\n",
            "Epoch 54/70\n",
            "30/30 [==============================] - 0s 8ms/step - loss: 2.6542e-05 - accuracy: 1.0000 - val_loss: 0.5248 - val_accuracy: 0.9250\n",
            "Epoch 55/70\n",
            "30/30 [==============================] - 0s 9ms/step - loss: 0.0706 - accuracy: 0.9917 - val_loss: 0.4524 - val_accuracy: 0.9375\n",
            "Epoch 56/70\n",
            "30/30 [==============================] - 0s 8ms/step - loss: 8.1336e-05 - accuracy: 1.0000 - val_loss: 0.4479 - val_accuracy: 0.9375\n",
            "Epoch 57/70\n",
            "30/30 [==============================] - 0s 10ms/step - loss: 5.3935e-05 - accuracy: 1.0000 - val_loss: 0.4558 - val_accuracy: 0.9333\n",
            "Epoch 58/70\n",
            "30/30 [==============================] - 0s 9ms/step - loss: 2.8116e-05 - accuracy: 1.0000 - val_loss: 0.4547 - val_accuracy: 0.9375\n",
            "Epoch 59/70\n",
            "30/30 [==============================] - 0s 9ms/step - loss: 2.9914e-05 - accuracy: 1.0000 - val_loss: 1.4845 - val_accuracy: 0.8375\n",
            "Epoch 60/70\n",
            "30/30 [==============================] - 0s 9ms/step - loss: 0.0302 - accuracy: 0.9937 - val_loss: 0.5186 - val_accuracy: 0.9417\n",
            "Epoch 61/70\n",
            "30/30 [==============================] - 0s 9ms/step - loss: 7.1779e-05 - accuracy: 1.0000 - val_loss: 0.5177 - val_accuracy: 0.9417\n",
            "Epoch 62/70\n",
            "30/30 [==============================] - 0s 8ms/step - loss: 3.6421e-05 - accuracy: 1.0000 - val_loss: 0.5160 - val_accuracy: 0.9458\n",
            "Epoch 63/70\n",
            "30/30 [==============================] - 0s 9ms/step - loss: 1.5669e-05 - accuracy: 1.0000 - val_loss: 0.5222 - val_accuracy: 0.9333\n",
            "Epoch 64/70\n",
            "30/30 [==============================] - 0s 10ms/step - loss: 0.0343 - accuracy: 0.9906 - val_loss: 0.5685 - val_accuracy: 0.9250\n",
            "Epoch 65/70\n",
            "30/30 [==============================] - 0s 9ms/step - loss: 5.4904e-04 - accuracy: 1.0000 - val_loss: 0.5185 - val_accuracy: 0.9292\n",
            "Epoch 66/70\n",
            "30/30 [==============================] - 0s 9ms/step - loss: 2.3582e-05 - accuracy: 1.0000 - val_loss: 0.5648 - val_accuracy: 0.9250\n",
            "Epoch 67/70\n",
            "30/30 [==============================] - 0s 10ms/step - loss: 1.1620e-05 - accuracy: 1.0000 - val_loss: 0.5188 - val_accuracy: 0.9333\n",
            "Epoch 68/70\n",
            "30/30 [==============================] - 0s 10ms/step - loss: 6.6926e-06 - accuracy: 1.0000 - val_loss: 0.5253 - val_accuracy: 0.9292\n",
            "Epoch 69/70\n",
            "30/30 [==============================] - 0s 8ms/step - loss: 0.0364 - accuracy: 0.9917 - val_loss: 0.5114 - val_accuracy: 0.9375\n",
            "Epoch 70/70\n",
            "30/30 [==============================] - 0s 10ms/step - loss: 1.8039e-05 - accuracy: 1.0000 - val_loss: 0.4900 - val_accuracy: 0.9375\n"
          ]
        },
        {
          "output_type": "display_data",
          "data": {
            "image/png": "[encoded data removed]",
            "text/plain": [
              "<Figure size 432x288 with 1 Axes>"
            ]
          },
          "metadata": {
            "needs_background": "light"
          }
        }
      ]
    },
    {
      "cell_type": "markdown",
      "metadata": {
        "id": "9JFLu0CdXM6K"
      },
      "source": [
        "**What interesting observations** do you make from the graph? How many epochs should you train for?\n",
        "\n",
        "We can also print out the structure of our model. What do the parts of the summary mean?"
      ]
    },
    {
      "cell_type": "code",
      "metadata": {
        "id": "RGwXs3C8YZl-"
      },
      "source": [
        "model.summary()"
      ],
      "execution_count": null,
      "outputs": []
    },
    {
      "cell_type": "markdown",
      "metadata": {
        "id": "YXINPAJvRr9W"
      },
      "source": [
        "#Advanced: Cats vs. Dogs with CNN\n",
        "\n",
        "So far, we've trained a CNN to distinguish between small images of cats and small images of dogs. It's more challenging and time-consuming to train CNNs for bigger images or harder tasks, like distinguishing dogs from cats (which look a lot more like dogs than roads do!)\n",
        "\n",
        "In this exercise, you'll adapt your previous model to classify large images of dogs vs. cats, and then try implementing a famous CNN architecture. Along the way, you'll deal with some of the debugging that machine learning engineers often have to handle."
      ]
    },
    {
      "cell_type": "code",
      "metadata": {
        "id": "6gU39z3jNMAt"
      },
      "source": [
        "#@title Run this to load cat and dog data. { display-mode: \"form\" }\n",
        "\n",
        "#Code here from https://colab.research.google.com/github/google/eng-edu/blob/master/ml/pc/exercises/image_classification_part1.ipynb#scrollTo=4PIP1rkmeAYS\n",
        "\n",
        "import tensorflow as tf\n",
        "import os \n",
        "from tensorflow.keras.preprocessing.image import ImageDataGenerator\n",
        "from google.colab.patches import cv2_imshow\n",
        "import cv2\n",
        "import matplotlib.pyplot as plt\n",
        "\n",
        "try:\n",
        "  road_model = model\n",
        "  road_saved = True\n",
        "except NameError:\n",
        "  road_saved = False\n",
        "\n",
        "IMG_SHAPE  = 150  # Our training data consists of images with width of 150 pixels and height of 150 pixels\n",
        "_URL = 'https://storage.googleapis.com/mledu-datasets/cats_and_dogs_filtered.zip'\n",
        "zip_dir = tf.keras.utils.get_file('cats_and_dogs_filterted.zip', origin=_URL, extract=True)\n",
        "base_dir = os.path.join(os.path.dirname(zip_dir), 'cats_and_dogs_filtered')\n",
        "train_dir = os.path.join(base_dir, 'train')\n",
        "validation_dir = os.path.join(base_dir, 'validation')\n",
        "\n",
        "train_cats_dir = os.path.join(train_dir, 'cats')  # directory with our training cat pictures\n",
        "train_dogs_dir = os.path.join(train_dir, 'dogs')  # directory with our training dog pictures\n",
        "validation_cats_dir = os.path.join(validation_dir, 'cats')  # directory with our validation cat pictures\n",
        "validation_dogs_dir = os.path.join(validation_dir, 'dogs')  # directory with our validation dog pictures\n",
        "train_image_generator      = ImageDataGenerator()  # Generator for our training data\n",
        "validation_image_generator = ImageDataGenerator()  # Generator for our validation data\n",
        "train_data = train_image_generator.flow_from_directory(batch_size=2000,\n",
        "                                                           directory=train_dir,\n",
        "                                                           shuffle=True,\n",
        "                                                           target_size=(IMG_SHAPE,IMG_SHAPE), #(150,150)\n",
        "                                                           class_mode='binary').next()\n",
        "val_data = validation_image_generator.flow_from_directory(batch_size=1000,\n",
        "                                                              directory=validation_dir,\n",
        "                                                              shuffle=False,\n",
        "                                                              target_size=(IMG_SHAPE,IMG_SHAPE), #(150,150)\n",
        "\n",
        "                                                              class_mode='binary').next()\n",
        "cd_train_inputs, cd_train_labels = train_data\n",
        "cd_test_inputs, cd_test_labels = val_data"
      ],
      "execution_count": null,
      "outputs": []
    },
    {
      "cell_type": "markdown",
      "metadata": {
        "id": "1y5etOJwScaG"
      },
      "source": [
        "**Run the code below to see the dimensions of our training and validation data. What does each number mean? What is different than our previous dataset?** "
      ]
    },
    {
      "cell_type": "code",
      "metadata": {
        "id": "kjdedJ0VNvWg"
      },
      "source": [
        "print (cd_train_inputs.shape) \n",
        "print (cd_train_labels.shape) \n",
        "print (cd_test_inputs.shape) \n",
        "print (cd_test_labels.shape) "
      ],
      "execution_count": null,
      "outputs": []
    },
    {
      "cell_type": "markdown",
      "metadata": {
        "id": "qIAkgOqWTAL7"
      },
      "source": [
        "**Run this code to see a random image from our training data (different each time).**"
      ]
    },
    {
      "cell_type": "code",
      "metadata": {
        "id": "HooiJ-RrQPcA"
      },
      "source": [
        "index = np.random.randint(len(cd_train_inputs))\n",
        "plt.imshow(cd_train_inputs[index]/255)\n",
        "plt.show()\n",
        "print(\"Label:\",cd_train_labels[index])"
      ],
      "execution_count": null,
      "outputs": []
    },
    {
      "cell_type": "markdown",
      "metadata": {
        "id": "HOwP9kX9UshH"
      },
      "source": [
        "**By adapting code from the previous exercise, build, train, and test a CNN to classify cats vs. dogs.**\n",
        "**Hints:**\n",
        "*   Use print(model.summary()) for a useful visualization of your model's architecture. Compare the summary of your cat/road and cat/dog classifiers.\n",
        "*  Substitute the names of the new datasets.\n",
        "*  Get a \"first try\" working by making small adjustments to a previous model before trying to optimize the accuracy. You can temporarily comment out layers as you figure things out.\n",
        "*  The outputs have different shapes betweeen the two datasets. What do you need to change? (You will get an ValueError that suggests how to transform the output to a one-hot encoding.) \n",
        "*  If you run out of memory, restart the notebook and/or use your knowledge of convolution arithmetic to reduce the size of an intermediate output (see [Keras documentation](https://www.tensorflow.org/api_docs/python/tf/keras/layers/Conv2D)).\n",
        "* Dropout layers help reduce overfitting.\n"
      ]
    },
    {
      "cell_type": "code",
      "metadata": {
        "id": "AeuqlzigZZ8I"
      },
      "source": [
        "model = Sequential()\n",
        "#TODO: Your code here to build, train, and test a cats vs. dogs CNN!\n",
        "#If you run into errors, see the hints above for help debugging! \n",
        "#\n",
        "#\n"
      ],
      "execution_count": null,
      "outputs": []
    },
    {
      "cell_type": "markdown",
      "metadata": {
        "id": "m6sFSGEqjPwe"
      },
      "source": [
        "#Advanced Challenge: Implementing a Famous Architecture for Cats vs. Dogs\n",
        "\n",
        "Having trouble designing an effective architecture? Try implementing a version of AlexNet, one of the most famous CNNs for image convolution ever. You can find this image and other useful information on this network [here](https://towardsdatascience.com/the-w3h-of-alexnet-vggnet-resnet-and-inception-7baaaecccc96).\n",
        "\n",
        "![](https://lh4.googleusercontent.com/gFAxn9Z-Y1lgkNy2GfsqjXy1DvSuYF8rvP3CslRvmuoP5SUaJMrEOr24YShU_LwalLpYNJFwpJgcDh9whk9XrMOGQ1ADQ9FY_0saicCVH0jsNPDKOYBcTG4YhbqpbPolW4hZSdUsDQ)\n",
        "\n",
        "How do we read this diagram?\n",
        "\n",
        "On the left side, we start with images of dimension 227x227x3 (RGB). We apply a filter composed of 96 kernels of size 11x11, with stride size 4. We end up with data of dimension 55x55x96. We pass through multiple layers of convolution and max pooling as shown, before ending with three dense (fully connected) layers.\n",
        "\n",
        "Not shown: each layer uses ReLU activation, and we include dropout before the first two dense layers. Make sure to include those!\n",
        "\n",
        "You'll want to adjust some of these dimensions, for a few reasons: we're starting with 150x150 rather than 227x227 images, ending with 2 labels rather than 1000, and have limited data and memory. Use your knowledge of convolution arithmetic (see CNN slides) and the [Keras documentation](https://www.tensorflow.org/api_docs/python/tf/keras/layers/Conv2D) to change the stride, kernel, and/or padding.\n",
        "\n",
        "Use model.summary() to understand the dimensions of your data at each step. To speed things up as you're building, you can set the number of epochs to 1."
      ]
    },
    {
      "cell_type": "code",
      "metadata": {
        "id": "8FHg8YTGtQ2t"
      },
      "source": [
        "model = Sequential()\n",
        "#TODO: Your code to run, train, and test AlexNet here:\n"
      ],
      "execution_count": null,
      "outputs": []
    },
    {
      "cell_type": "markdown",
      "metadata": {
        "id": "PlF308hDjwyC"
      },
      "source": [
        "You might find that even AlexNet isn't working that well for you!\n",
        "\n",
        "This is because having a good architecture is only half the battle: AlexNet is a complex model designed to learn from millions of images. We're using a small dataset of only 2000 training images, so it's not surprising that our results aren't great. Our model is overfitting: essentially memorizing the few training images, rather than really learning the difference between a cat and a dog. (The advantage is that our model trains quickly.)\n",
        "\n",
        "To get really good performance, we need more data. If we can't find more, we could use *data augmentation*: inventing new training data by transforming our existing images. You can read more about it at https://blog.keras.io/building-powerful-image-classification-models-using-very-little-data.html."
      ]
    },
    {
      "cell_type": "markdown",
      "metadata": {
        "id": "RVzEpI_xWpE5"
      },
      "source": [
        "![](https://images.pexels.com/photos/316/black-and-white-animal-dog-pet.jpg?auto=compress&cs=tinysrgb&dpr=2&h=650&w=940)"
      ]
    }
  ]
}