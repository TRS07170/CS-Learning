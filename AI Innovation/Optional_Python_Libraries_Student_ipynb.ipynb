{
  "nbformat": 4,
  "nbformat_minor": 0,
  "metadata": {
    "colab": {
      "name": "“Optional_Python_Libraries_Student.ipynb”的副本",
      "provenance": [],
      "collapsed_sections": [],
      "toc_visible": true
    },
    "language_info": {
      "codemirror_mode": {
        "name": "ipython",
        "version": 3
      },
      "file_extension": ".py",
      "mimetype": "text/x-python",
      "name": "python",
      "nbconvert_exporter": "python",
      "pygments_lexer": "ipython3",
      "version": "3.6.0"
    },
    "kernelspec": {
      "name": "python3",
      "display_name": "Python 3"
    },
    "accelerator": "GPU"
  },
  "cells": [
    {
      "cell_type": "markdown",
      "metadata": {
        "id": "hdjb4-LEKKbo"
      },
      "source": [
        "# Introduction to NumPy, Pandas, Matplotlib and Seaborn, and Sci-Kit Learn "
      ]
    },
    {
      "cell_type": "code",
      "metadata": {
        "id": "O-AY4gAqGBj9"
      },
      "source": [
        "#@title Run this to prepare your data! { display-mode: \"form\" }\n",
        "import gdown\n",
        "gdown.download('https://drive.google.com/uc?id=1eDhwxZxEnMoKcaR-ATW21ReuKdwpMdrF', 'airline-safety.csv', True);\n",
        "gdown.download('https://drive.google.com/uc?id=14FYQvB05JqfU4d1Wn1LSv_Jh0om7AI0M', 'tips.csv', True);"
      ],
      "execution_count": null,
      "outputs": []
    },
    {
      "cell_type": "markdown",
      "metadata": {
        "id": "N0p2aNMyKKbq"
      },
      "source": [
        "Before we set out on our journey into the land of artificial intelligence, we must first pack some gear. \n",
        "Some of the essentials include Numpy, Pandas, Matplotlib, and Seaborn. Let's discuss Python Packages first!\n",
        "\n",
        "### Note: In case of time constraint, only do the sections that have an emoji next to the title.\n",
        "\n",
        "## What are Python Packages? "
      ]
    },
    {
      "cell_type": "markdown",
      "metadata": {
        "id": "G9_3omm0KKbs"
      },
      "source": [
        "A Python package is simply a collection of modules — files consisting of Python code. The packages that we'll be looking at today include Numpy, Pandas, Matplotlib, and Seaborn. Let's begin with NumPy."
      ]
    },
    {
      "cell_type": "markdown",
      "metadata": {
        "id": "YUs6I5u5KKbv"
      },
      "source": [
        "# NumPy: An Introduction  🤖"
      ]
    },
    {
      "cell_type": "markdown",
      "metadata": {
        "id": "yn5x1HxkKKbx"
      },
      "source": [
        "Numpy is the core library for scientific computing in Python. Numpy provides the flexibility to create multidimensional array objects (arrays within arrays) and compute a wide variety of mathematical operations including basic linear algebra, basic statistical operations, random simulation and much more. We will represent all of our data which will be fed into our machine learning models using Numpy."
      ]
    },
    {
      "cell_type": "markdown",
      "metadata": {
        "id": "dNj5CzYeKKb0"
      },
      "source": [
        "We'll start with the standard NumPy import, under the alias np:"
      ]
    },
    {
      "cell_type": "code",
      "metadata": {
        "id": "e1NOvv47KKb1"
      },
      "source": [
        "import numpy as np"
      ],
      "execution_count": null,
      "outputs": []
    },
    {
      "cell_type": "markdown",
      "metadata": {
        "id": "0vkg7Br-KKcB"
      },
      "source": [
        "### Arrays 🚖"
      ]
    },
    {
      "cell_type": "markdown",
      "metadata": {
        "id": "NfnHIM-RKKcC"
      },
      "source": [
        "An **array** is simply a collection of items. At the heart of a Numpy library is the array object or the ndarray object (n-dimensional array).  Simply put, it is a table of elements (usually numbers and the same type) indexed by a tuple of positive integers. In NumPy dimensions are called **axes**. The number of axes is referred to as **rank**. \n",
        "<br/>\n",
        "Let's create an 1D array of  **taxi rates** (in dollars) by passing it through a list: "
      ]
    },
    {
      "cell_type": "code",
      "metadata": {
        "id": "nDUZfgg5KKcC"
      },
      "source": [
        "a = np.array([12.50, 10.20, 25])"
      ],
      "execution_count": null,
      "outputs": []
    },
    {
      "cell_type": "markdown",
      "metadata": {
        "id": "VeYSYKLwmTx3"
      },
      "source": [
        "We can view the contents of the array by running the following code:"
      ]
    },
    {
      "cell_type": "code",
      "metadata": {
        "id": "NjUHxfHJKKcE",
        "outputId": "65adec77-a63b-463a-82ab-cea456304ece",
        "colab": {
          "base_uri": "https://localhost:8080/"
        }
      },
      "source": [
        "a"
      ],
      "execution_count": null,
      "outputs": [
        {
          "output_type": "execute_result",
          "data": {
            "text/plain": [
              "array([12.5, 10.2, 25. ])"
            ]
          },
          "metadata": {},
          "execution_count": 4
        }
      ]
    },
    {
      "cell_type": "markdown",
      "metadata": {
        "id": "Yw6X4FpkKKcH"
      },
      "source": [
        "Awesome! 👏 Let's now create an multi-dimensional array. "
      ]
    },
    {
      "cell_type": "code",
      "metadata": {
        "id": "zXL1mAmiKKcI"
      },
      "source": [
        "b = np.array([\n",
        "    [19.50, 13, 12, 11 ],\n",
        "    [12.50, 10, 25, 14]])"
      ],
      "execution_count": null,
      "outputs": []
    },
    {
      "cell_type": "markdown",
      "metadata": {
        "id": "I2dG_H82KKcL"
      },
      "source": [
        "## Exercise:  Arrays ⛷"
      ]
    },
    {
      "cell_type": "markdown",
      "metadata": {
        "id": "k_Bai-nKKKcM"
      },
      "source": [
        "Time for our first exercise! \n",
        "- Create a NumPy single - dimensional array and assign it to a variable that describes the following situation:\n",
        "    - Find the weather for the next 5 days in your favorite city, and enter it into the array.\n",
        "- Create another NumPy single - dimensional array and assign it that describes the following situation:\n",
        "    - Write your 5 favorite numbers.\n",
        "- Can you try adding the two arrays? How about subtracting? "
      ]
    },
    {
      "cell_type": "code",
      "metadata": {
        "id": "bmifbdMnaKJK",
        "outputId": "7dd10ec1-8ed7-475a-fd52-2aa138a09055",
        "colab": {
          "base_uri": "https://localhost:8080/"
        }
      },
      "source": [
        "# YOUR CODE HERE #\n",
        "x = np.array([1, 2, 3, 4, 5])\n",
        "y = np.array([6, 7, 8, 9, 10])\n",
        "x + y"
      ],
      "execution_count": null,
      "outputs": [
        {
          "output_type": "execute_result",
          "data": {
            "text/plain": [
              "array([ 7,  9, 11, 13, 15])"
            ]
          },
          "metadata": {},
          "execution_count": 6
        }
      ]
    },
    {
      "cell_type": "markdown",
      "metadata": {
        "id": "kvgbO5Z_KKcR"
      },
      "source": [
        "### Methods ⛵️"
      ]
    },
    {
      "cell_type": "markdown",
      "metadata": {
        "id": "7HZaOocAKKcR"
      },
      "source": [
        "🎉 Let's now explore some of the methods in NumPy. The [**.shape**](https://docs.scipy.org/doc/numpy/reference/generated/numpy.ndarray.shape.html) method for nparray returns the dimensions of the given array. For example, [x].shape returns the (vertical, horizontal) dimensions of the variable x. Let's use .shape to find the dimensions of the multi-dimensional array that we've created above:\n",
        "\n",
        "_Can you guess the shape before running the command?_"
      ]
    },
    {
      "cell_type": "code",
      "metadata": {
        "id": "wqNlN3rOKKcS",
        "colab": {
          "base_uri": "https://localhost:8080/"
        },
        "outputId": "5ee4b528-3510-4fe0-9ad8-74fc34e5a0bd"
      },
      "source": [
        "b.shape"
      ],
      "execution_count": null,
      "outputs": [
        {
          "output_type": "execute_result",
          "data": {
            "text/plain": [
              "(2, 4)"
            ]
          },
          "metadata": {},
          "execution_count": 7
        }
      ]
    },
    {
      "cell_type": "markdown",
      "metadata": {
        "id": "3jMyi9hVmynw"
      },
      "source": [
        "Note that multi-dimensional arrays can also have more than two dimensions. A three-dimensional array, for example, has arrays within arrays within arrays. Calling array.shape on a 3-dimensional array would return three numbers: (num1, num2, num3).\n",
        " \n",
        "**Make sure you understand the concept of shapes because this will come up again and again throughout your machine learning experience!**"
      ]
    },
    {
      "cell_type": "markdown",
      "metadata": {
        "id": "wc48ME-lKKcT"
      },
      "source": [
        "The [**.linspace**](https://docs.scipy.org/doc/numpy/reference/generated/numpy.linspace.html) method is used to return evenly spaced numbers over a specified interval. Let's create an array of 6 integers between 0 and 100 to demonstrate this method: "
      ]
    },
    {
      "cell_type": "code",
      "metadata": {
        "scrolled": true,
        "id": "FnUeQq9wKKcU",
        "colab": {
          "base_uri": "https://localhost:8080/"
        },
        "outputId": "9b253d19-0d71-4fa6-85ab-324c3644f8a6"
      },
      "source": [
        "np.linspace(0,100,6)"
      ],
      "execution_count": null,
      "outputs": [
        {
          "output_type": "execute_result",
          "data": {
            "text/plain": [
              "array([  0.,  20.,  40.,  60.,  80., 100.])"
            ]
          },
          "metadata": {},
          "execution_count": 8
        }
      ]
    },
    {
      "cell_type": "markdown",
      "metadata": {
        "id": "087T2UAcKKcW"
      },
      "source": [
        "How about if we wanted to decide the step? The [**.arange**](https://docs.scipy.org/doc/numpy/reference/generated/numpy.linspace.html) method allows us to return evenly spaced values within an given interval. "
      ]
    },
    {
      "cell_type": "code",
      "metadata": {
        "id": "-f6sV7WmKKcW",
        "colab": {
          "base_uri": "https://localhost:8080/"
        },
        "outputId": "815bf506-31d4-4bb9-9e53-a9dc2c1ed301"
      },
      "source": [
        "np.arange(0,10,3)"
      ],
      "execution_count": null,
      "outputs": [
        {
          "output_type": "execute_result",
          "data": {
            "text/plain": [
              "array([0, 3, 6, 9])"
            ]
          },
          "metadata": {},
          "execution_count": 9
        }
      ]
    },
    {
      "cell_type": "markdown",
      "metadata": {
        "id": "5S10euQrKKcY"
      },
      "source": [
        "Yay! 🙌 What if we didn't want to define the interval or the step? The [**.random.rand**](https://docs.scipy.org/doc/numpy/reference/generated/numpy.random.rand.html) method accomplishes this purpose by creating an array of a specified shape and fills it with random values. Let's create a 4 x 5 array of random floats between 0-1:"
      ]
    },
    {
      "cell_type": "code",
      "metadata": {
        "scrolled": true,
        "id": "GnqUmK-4KKcZ",
        "colab": {
          "base_uri": "https://localhost:8080/"
        },
        "outputId": "f2e48b46-e0dd-4f9d-fc9d-bfeb87c525d1"
      },
      "source": [
        "np.random.rand(4,5)"
      ],
      "execution_count": null,
      "outputs": [
        {
          "output_type": "execute_result",
          "data": {
            "text/plain": [
              "array([[0.8952345 , 0.62930322, 0.1938292 , 0.71950945, 0.24610653],\n",
              "       [0.12416446, 0.82506533, 0.5278613 , 0.91246932, 0.19516086],\n",
              "       [0.66827189, 0.7404049 , 0.12207844, 0.02145822, 0.62512201],\n",
              "       [0.07725796, 0.68846081, 0.43518864, 0.9379489 , 0.20271067]])"
            ]
          },
          "metadata": {},
          "execution_count": 10
        }
      ]
    },
    {
      "cell_type": "markdown",
      "metadata": {
        "id": "mA9K9rq_KKcb"
      },
      "source": [
        "If we want to increase the size of the floats between an certain interval (0-100), we can simply multiply by the highest digit in that interval: "
      ]
    },
    {
      "cell_type": "code",
      "source": [
        ""
      ],
      "metadata": {
        "id": "o6cucco6ZbRO"
      },
      "execution_count": null,
      "outputs": []
    },
    {
      "cell_type": "code",
      "metadata": {
        "id": "WNPNeWe7KKcc",
        "colab": {
          "base_uri": "https://localhost:8080/"
        },
        "outputId": "efa3959a-0b23-4e75-8934-b761872ba8d7"
      },
      "source": [
        "np.random.rand(4,5)*100"
      ],
      "execution_count": null,
      "outputs": [
        {
          "output_type": "execute_result",
          "data": {
            "text/plain": [
              "array([[98.49071147, 11.12147788,  7.49364868, 16.53295244, 33.65923757],\n",
              "       [60.34077398, 63.81782172, 94.8350912 , 99.93839647, 74.89250573],\n",
              "       [28.60862543, 73.34264833, 30.71789331, 74.53274194, 15.67788648],\n",
              "       [99.53923568, 85.15607372, 48.76259538, 48.03605619, 72.7641571 ]])"
            ]
          },
          "metadata": {},
          "execution_count": 11
        }
      ]
    },
    {
      "cell_type": "markdown",
      "metadata": {
        "id": "syIDcJjWnaMl"
      },
      "source": [
        "Notice how the numbers when you call the random function are different the second time. This is because it generates new numbers each time."
      ]
    },
    {
      "cell_type": "markdown",
      "metadata": {
        "id": "C1huCd_VKKce"
      },
      "source": [
        "We can also explore some of the properties of the array. The [**.dtype**](https://docs.scipy.org/doc/numpy/reference/arrays.dtypes.html)  method outputs the type of elements in an given array:"
      ]
    },
    {
      "cell_type": "code",
      "metadata": {
        "id": "9iOKWg0RKKce"
      },
      "source": [
        "c = np.arange(0,10,3)"
      ],
      "execution_count": null,
      "outputs": []
    },
    {
      "cell_type": "code",
      "metadata": {
        "id": "epO-qdqMKKcf",
        "colab": {
          "base_uri": "https://localhost:8080/"
        },
        "outputId": "72a48ba0-ccb3-4e54-dcf1-424c5f86704e"
      },
      "source": [
        "c.dtype"
      ],
      "execution_count": null,
      "outputs": [
        {
          "output_type": "execute_result",
          "data": {
            "text/plain": [
              "dtype('int64')"
            ]
          },
          "metadata": {},
          "execution_count": 13
        }
      ]
    },
    {
      "cell_type": "markdown",
      "metadata": {
        "id": "5t-BnlMuKKci"
      },
      "source": [
        "Kudos! **int64** simply means that the elements in the array are integers. Remember that NumPy arrays only support an *singular* data type for each array unlike Python arrays. Other data types include **float64** and **double64**, which are used to specify numbers with decimals (**int64**s must be whole numbers)."
      ]
    },
    {
      "cell_type": "markdown",
      "metadata": {
        "id": "7hw-t9USKKci"
      },
      "source": [
        "## Exercise: Methods 🏃"
      ]
    },
    {
      "cell_type": "markdown",
      "metadata": {
        "id": "XYiYhMliKKci"
      },
      "source": [
        "Time to test our skills!"
      ]
    },
    {
      "cell_type": "markdown",
      "metadata": {
        "id": "McnS13TaKKcj"
      },
      "source": [
        "- Using the **.shape** method, find the dimensions of the array containing the weather of your favorite city. \n",
        "- Use the **.linspace** method to create an array of 5 evenly-spaced integers between 15 and 45\n",
        "- Create a 3x6 array using the **.random.rand()** method"
      ]
    },
    {
      "cell_type": "code",
      "metadata": {
        "id": "KHvHJkde1axp",
        "colab": {
          "base_uri": "https://localhost:8080/"
        },
        "outputId": "654ef8f3-4fce-4af4-8a17-8deb606274a7"
      },
      "source": [
        "# YOUR CODE HERE #\n",
        "x.shape"
      ],
      "execution_count": null,
      "outputs": [
        {
          "output_type": "execute_result",
          "data": {
            "text/plain": [
              "(5,)"
            ]
          },
          "metadata": {},
          "execution_count": 17
        }
      ]
    },
    {
      "cell_type": "code",
      "source": [
        "np.linspace(15, 45, 5)"
      ],
      "metadata": {
        "colab": {
          "base_uri": "https://localhost:8080/"
        },
        "id": "Lt7Rk8sYZj8i",
        "outputId": "5180a2d1-0288-4db0-ab77-29db3b8377bd"
      },
      "execution_count": null,
      "outputs": [
        {
          "output_type": "execute_result",
          "data": {
            "text/plain": [
              "array([15. , 22.5, 30. , 37.5, 45. ])"
            ]
          },
          "metadata": {},
          "execution_count": 18
        }
      ]
    },
    {
      "cell_type": "code",
      "source": [
        "np.random.rand(3, 6)"
      ],
      "metadata": {
        "id": "iK1-nG0nZm8b",
        "outputId": "e6d53f43-6b76-454d-a37f-5615412880c6",
        "colab": {
          "base_uri": "https://localhost:8080/"
        }
      },
      "execution_count": null,
      "outputs": [
        {
          "output_type": "execute_result",
          "data": {
            "text/plain": [
              "array([[0.30116231, 0.62921657, 0.29304866, 0.73230867, 0.49560149,\n",
              "        0.02975374],\n",
              "       [0.8392224 , 0.84628112, 0.55822227, 0.44345028, 0.75083706,\n",
              "        0.32355422],\n",
              "       [0.5585254 , 0.69426111, 0.50512455, 0.59118069, 0.5535694 ,\n",
              "        0.54139627]])"
            ]
          },
          "metadata": {},
          "execution_count": 19
        }
      ]
    },
    {
      "cell_type": "markdown",
      "metadata": {
        "id": "NMzjIw1KKKcl"
      },
      "source": [
        "## Operations "
      ]
    },
    {
      "cell_type": "markdown",
      "source": [
        ""
      ],
      "metadata": {
        "id": "qN89pl7IY_mh"
      }
    },
    {
      "cell_type": "markdown",
      "metadata": {
        "id": "CC561yHBKKcl"
      },
      "source": [
        "NumPy offers the ability to compute arrays together. "
      ]
    },
    {
      "cell_type": "code",
      "metadata": {
        "id": "f33m7hEfKKcl"
      },
      "source": [
        "x = np.array([3,4,5])"
      ],
      "execution_count": null,
      "outputs": []
    },
    {
      "cell_type": "code",
      "metadata": {
        "id": "vw3NHRzzKKcm"
      },
      "source": [
        "y = np.array([1,2,3])"
      ],
      "execution_count": null,
      "outputs": []
    },
    {
      "cell_type": "markdown",
      "metadata": {
        "id": "S6lON11SKKcn"
      },
      "source": [
        "We can use traditional math symbols to add, subtract, multiply, and divide the two arrays: "
      ]
    },
    {
      "cell_type": "code",
      "metadata": {
        "id": "bQJyXZ7jKKcn",
        "colab": {
          "base_uri": "https://localhost:8080/"
        },
        "outputId": "e8885d3b-1f73-47e6-895c-0742caa610a6"
      },
      "source": [
        "print(x + y)\n",
        "print(x - y)\n",
        "print(x * y)\n",
        "print(x / y)\n",
        "print(x**2)"
      ],
      "execution_count": null,
      "outputs": [
        {
          "output_type": "stream",
          "name": "stdout",
          "text": [
            "[4 6 8]\n",
            "[2 2 2]\n",
            "[ 3  8 15]\n",
            "[3.         2.         1.66666667]\n",
            "[ 9 16 25]\n"
          ]
        }
      ]
    },
    {
      "cell_type": "markdown",
      "metadata": {
        "id": "NA9kJJ3WKKcp"
      },
      "source": [
        "## Scalar Math"
      ]
    },
    {
      "cell_type": "markdown",
      "metadata": {
        "id": "RU3du0U6KKcp"
      },
      "source": [
        "We can use basic functions to add, subtract, multiply, divide, and power the array:\n",
        "\n",
        "_Can you guess the output before running command?_"
      ]
    },
    {
      "cell_type": "code",
      "metadata": {
        "id": "Ty8_QhprKKcp",
        "colab": {
          "base_uri": "https://localhost:8080/"
        },
        "outputId": "7e1fe8b1-53d8-4b8c-f25a-2393c6fcf017"
      },
      "source": [
        "np.add(x,1)"
      ],
      "execution_count": null,
      "outputs": [
        {
          "output_type": "execute_result",
          "data": {
            "text/plain": [
              "array([4, 5, 6])"
            ]
          },
          "metadata": {},
          "execution_count": 7
        }
      ]
    },
    {
      "cell_type": "code",
      "metadata": {
        "id": "6Z4nK4UDKKcr",
        "colab": {
          "base_uri": "https://localhost:8080/"
        },
        "outputId": "2268b469-0759-4301-b6ab-1b1176f5bee4"
      },
      "source": [
        "np.subtract(x,2)"
      ],
      "execution_count": null,
      "outputs": [
        {
          "output_type": "execute_result",
          "data": {
            "text/plain": [
              "array([1, 2, 3])"
            ]
          },
          "metadata": {},
          "execution_count": 8
        }
      ]
    },
    {
      "cell_type": "code",
      "metadata": {
        "id": "W8xNSNODKKcs",
        "colab": {
          "base_uri": "https://localhost:8080/"
        },
        "outputId": "7b1e6016-71e9-4af8-c979-fd9c3bdf2719"
      },
      "source": [
        "np.multiply(x,3)"
      ],
      "execution_count": null,
      "outputs": [
        {
          "output_type": "execute_result",
          "data": {
            "text/plain": [
              "array([ 9, 12, 15])"
            ]
          },
          "metadata": {},
          "execution_count": 9
        }
      ]
    },
    {
      "cell_type": "code",
      "metadata": {
        "id": "qTGgDdteKKct",
        "colab": {
          "base_uri": "https://localhost:8080/"
        },
        "outputId": "9be47404-d8d7-47ec-96e6-d537ffba071c"
      },
      "source": [
        "np.divide(x,4)"
      ],
      "execution_count": null,
      "outputs": [
        {
          "output_type": "execute_result",
          "data": {
            "text/plain": [
              "array([0.75, 1.  , 1.25])"
            ]
          },
          "metadata": {},
          "execution_count": 10
        }
      ]
    },
    {
      "cell_type": "code",
      "metadata": {
        "id": "u-Cf5OfBKKcu",
        "colab": {
          "base_uri": "https://localhost:8080/"
        },
        "outputId": "9607ece3-c2f0-4afd-ce45-c9639b7e8a29"
      },
      "source": [
        "np.power(x,5)"
      ],
      "execution_count": null,
      "outputs": [
        {
          "output_type": "execute_result",
          "data": {
            "text/plain": [
              "array([ 243, 1024, 3125])"
            ]
          },
          "metadata": {},
          "execution_count": 11
        }
      ]
    },
    {
      "cell_type": "markdown",
      "metadata": {
        "id": "SfOGy3YXKKcv"
      },
      "source": [
        "## Indexing, Slicing and Reshaping 🔭"
      ]
    },
    {
      "cell_type": "markdown",
      "metadata": {
        "id": "oGZo5zPWKKcw"
      },
      "source": [
        "Now, we're going to explore some of the functions in Python. First, let's create an array with 12 numbers using the **arange** method in increments of 5:"
      ]
    },
    {
      "cell_type": "code",
      "metadata": {
        "id": "u8nJkGpqKKcw",
        "colab": {
          "base_uri": "https://localhost:8080/"
        },
        "outputId": "8bd16c19-b5d6-4bad-f879-8523a6135517"
      },
      "source": [
        "s = np.arange(12)*5 # note this is same as np.arange(0,12,1)*5\n",
        "s"
      ],
      "execution_count": null,
      "outputs": [
        {
          "output_type": "execute_result",
          "data": {
            "text/plain": [
              "array([ 0,  5, 10, 15, 20, 25, 30, 35, 40, 45, 50, 55])"
            ]
          },
          "metadata": {},
          "execution_count": 12
        }
      ]
    },
    {
      "cell_type": "markdown",
      "metadata": {
        "id": "KFKdNcVCKKcx"
      },
      "source": [
        "**Indexing** refers to retrieving a specific element of an array. Let's find the 3rd value in the above array:"
      ]
    },
    {
      "cell_type": "code",
      "metadata": {
        "id": "it-5rQ-AKKcx",
        "colab": {
          "base_uri": "https://localhost:8080/"
        },
        "outputId": "21cb7f59-9ef5-4fe5-ee12-66e52e1b567b"
      },
      "source": [
        "s[2]"
      ],
      "execution_count": null,
      "outputs": [
        {
          "output_type": "execute_result",
          "data": {
            "text/plain": [
              "10"
            ]
          },
          "metadata": {},
          "execution_count": 13
        }
      ]
    },
    {
      "cell_type": "markdown",
      "metadata": {
        "id": "40b-h-2JKKcy"
      },
      "source": [
        "**Note**: The values of an array always start with x[0]. We can also retrieve values within an certain range using the **:** symbol:"
      ]
    },
    {
      "cell_type": "code",
      "metadata": {
        "id": "2BP_MEpXKKcz",
        "colab": {
          "base_uri": "https://localhost:8080/"
        },
        "outputId": "58152a43-61d5-48ad-c81c-26ddeb649008"
      },
      "source": [
        "s[2:5]"
      ],
      "execution_count": null,
      "outputs": [
        {
          "output_type": "execute_result",
          "data": {
            "text/plain": [
              "array([10, 15, 20])"
            ]
          },
          "metadata": {},
          "execution_count": 14
        }
      ]
    },
    {
      "cell_type": "markdown",
      "metadata": {
        "id": "0f4WW1dyKKc0"
      },
      "source": [
        "😎 Now, let's try combining two arrays using [**concatenate( )**](https://docs.scipy.org/doc/numpy/reference/generated/numpy.concatenate.html) and add 'a' as rows to the end of 's':"
      ]
    },
    {
      "cell_type": "code",
      "metadata": {
        "id": "zZhuYVWVKKc0",
        "colab": {
          "base_uri": "https://localhost:8080/"
        },
        "outputId": "4f351896-b242-4f49-b03b-19f6e7042c64"
      },
      "source": [
        "np.concatenate((s,a))"
      ],
      "execution_count": null,
      "outputs": [
        {
          "output_type": "execute_result",
          "data": {
            "text/plain": [
              "array([ 0. ,  5. , 10. , 15. , 20. , 25. , 30. , 35. , 40. , 45. , 50. ,\n",
              "       55. , 12.5, 10.2, 25. ])"
            ]
          },
          "metadata": {},
          "execution_count": 19
        }
      ]
    },
    {
      "cell_type": "markdown",
      "metadata": {
        "id": "Lzdq-SN9KKc1"
      },
      "source": [
        "🙌 How about splitting arrays? We can use the [**.split()**](https://docs.scipy.org/doc/numpy/reference/generated/numpy.concatenate.html) method to split the s array in sub-arrays:"
      ]
    },
    {
      "cell_type": "code",
      "metadata": {
        "id": "iFxWISKcKKc2",
        "colab": {
          "base_uri": "https://localhost:8080/"
        },
        "outputId": "438aa67f-b2bb-4b43-84e3-5c7d5c5c6df4"
      },
      "source": [
        "z = np.arange(9.0)\n",
        "z"
      ],
      "execution_count": null,
      "outputs": [
        {
          "output_type": "execute_result",
          "data": {
            "text/plain": [
              "array([0., 1., 2., 3., 4., 5., 6., 7., 8.])"
            ]
          },
          "metadata": {},
          "execution_count": 20
        }
      ]
    },
    {
      "cell_type": "code",
      "metadata": {
        "id": "_JM8BwQcKKc3"
      },
      "source": [
        "split_arr = np.split(z, 3)"
      ],
      "execution_count": null,
      "outputs": []
    },
    {
      "cell_type": "code",
      "metadata": {
        "id": "7hddEf4zFL7L",
        "colab": {
          "base_uri": "https://localhost:8080/"
        },
        "outputId": "e01d9477-24cd-495e-ddcd-d541905d103e"
      },
      "source": [
        "split_arr"
      ],
      "execution_count": null,
      "outputs": [
        {
          "output_type": "execute_result",
          "data": {
            "text/plain": [
              "[array([0., 1., 2.]), array([3., 4., 5.]), array([6., 7., 8.])]"
            ]
          },
          "metadata": {},
          "execution_count": 22
        }
      ]
    },
    {
      "cell_type": "markdown",
      "metadata": {
        "id": "xxIhNlDNE28F"
      },
      "source": [
        "**What do y'all think the shape of the above array is?**"
      ]
    },
    {
      "cell_type": "code",
      "metadata": {
        "id": "Rv6OJqbZFOp6",
        "colab": {
          "base_uri": "https://localhost:8080/"
        },
        "outputId": "b261dbec-ea06-4a38-f2f6-588e61a75c90"
      },
      "source": [
        "np.array(split_arr).shape"
      ],
      "execution_count": null,
      "outputs": [
        {
          "output_type": "execute_result",
          "data": {
            "text/plain": [
              "(3, 3)"
            ]
          },
          "metadata": {},
          "execution_count": 23
        }
      ]
    },
    {
      "cell_type": "markdown",
      "metadata": {
        "id": "GAZ7v5w8KKc4"
      },
      "source": [
        "## Exercise: Indexing, Slicing and Reshaping"
      ]
    },
    {
      "cell_type": "markdown",
      "metadata": {
        "id": "5bAZWakZKKc4"
      },
      "source": [
        "Time for a test!"
      ]
    },
    {
      "cell_type": "markdown",
      "metadata": {
        "id": "yGbwUaHwKKc4"
      },
      "source": [
        "- Using the **arange** method, create an array of 5 numbers in increments of 10. Call it 'oreo'\n",
        "- Retrieve the 3rd number in the above array named 'oreo'\n",
        "- Create another array of 5 numbers in increments of 15. Use any method you like and call it 'milk'\n",
        "- Retrive the 1st number in the above array named 'milk' <br>\n",
        "Can you eat those many oreos and drink that many cups of milk? You decide! 🥛 "
      ]
    },
    {
      "cell_type": "code",
      "metadata": {
        "id": "JDFY9uNd1gTS",
        "colab": {
          "base_uri": "https://localhost:8080/"
        },
        "outputId": "87e1646b-5200-4740-821e-d9529ddacd24"
      },
      "source": [
        "# YOUR CODE HERE #\n",
        "oreo = np.arange(5) * 10\n",
        "oreo"
      ],
      "execution_count": null,
      "outputs": [
        {
          "output_type": "execute_result",
          "data": {
            "text/plain": [
              "array([ 0, 10, 20, 30, 40])"
            ]
          },
          "metadata": {},
          "execution_count": 26
        }
      ]
    },
    {
      "cell_type": "code",
      "metadata": {
        "id": "GJIsd7li1g7r",
        "colab": {
          "base_uri": "https://localhost:8080/"
        },
        "outputId": "46d212e4-03aa-4af5-ab58-8980c496dcc3"
      },
      "source": [
        "# YOUR CODE HERE #\n",
        "oreo[2]"
      ],
      "execution_count": null,
      "outputs": [
        {
          "output_type": "execute_result",
          "data": {
            "text/plain": [
              "20"
            ]
          },
          "metadata": {},
          "execution_count": 27
        }
      ]
    },
    {
      "cell_type": "code",
      "metadata": {
        "id": "p8kCdGOT1hPs",
        "colab": {
          "base_uri": "https://localhost:8080/"
        },
        "outputId": "67704e8d-641b-4d1d-e4f3-010efd5e7d7d"
      },
      "source": [
        "# YOUR CODE HERE #\n",
        "milk = np.arange(5) * 15\n",
        "milk"
      ],
      "execution_count": null,
      "outputs": [
        {
          "output_type": "execute_result",
          "data": {
            "text/plain": [
              "array([ 0, 15, 30, 45, 60])"
            ]
          },
          "metadata": {},
          "execution_count": 28
        }
      ]
    },
    {
      "cell_type": "code",
      "metadata": {
        "id": "_Ai9MPyD1hcU",
        "colab": {
          "base_uri": "https://localhost:8080/"
        },
        "outputId": "2d9e53c1-e948-4b03-ec66-ed0322164200"
      },
      "source": [
        "# YOUR CODE HERE #\n",
        "milk[0]"
      ],
      "execution_count": null,
      "outputs": [
        {
          "output_type": "execute_result",
          "data": {
            "text/plain": [
              "0"
            ]
          },
          "metadata": {},
          "execution_count": 29
        }
      ]
    },
    {
      "cell_type": "markdown",
      "metadata": {
        "id": "eqbcMLWOKKc4"
      },
      "source": [
        "😀 We've completed our review of NumPy! After you take a quick break - walk around, drink water - let's move on to Pandas. "
      ]
    },
    {
      "cell_type": "markdown",
      "metadata": {
        "id": "WfqaMtQ-KKc4"
      },
      "source": [
        "# Pandas: An Introduction 🐼 "
      ]
    },
    {
      "cell_type": "markdown",
      "metadata": {
        "id": "fdnANq-9KKc5"
      },
      "source": [
        "Pandas is an open source Python package that provides numerous tools for data analysis. Pandas provides </br> fast, flexible, and expressive data structures designed to make working with structured (tabular, multidimensional, potentially heterogeneous) and time series data both easy and intuitive. It aims to be the fundamental high-level building block for doing practical, real world data analysis in Python. \n",
        "\n",
        "We'll take look at some of the core ideas in Pandas here. You can learn more about Pandas in their official [documentation](http://pandas.pydata.org)."
      ]
    },
    {
      "cell_type": "markdown",
      "metadata": {
        "id": "4DM2GJ-9KKc5"
      },
      "source": [
        "## [Pandas Series](https://pandas.pydata.org/pandas-docs/stable/reference/api/pandas.Series.html) ❄️"
      ]
    },
    {
      "cell_type": "markdown",
      "metadata": {
        "id": "zqgi1nU3KKc5"
      },
      "source": [
        "A **Series** is similar to an one dimensional array and can store data of any type. The values of a Pandas Series are mutable but the size of a Series is immutable and cannot be changed.<br>\n",
        "The first element in the series is assigned the index 0, while the last element is at index N-1, where N is the total number of elements in the series."
      ]
    },
    {
      "cell_type": "markdown",
      "metadata": {
        "id": "6VIa2HCGKKc5"
      },
      "source": [
        "Let's first **import** pandas under the common alias **pd**:"
      ]
    },
    {
      "cell_type": "code",
      "metadata": {
        "id": "9VyI95ekKKc5"
      },
      "source": [
        "import pandas as pd"
      ],
      "execution_count": null,
      "outputs": []
    },
    {
      "cell_type": "markdown",
      "metadata": {
        "id": "EO-qBtXSKKc6"
      },
      "source": [
        "### Creating a Pandas Series"
      ]
    },
    {
      "cell_type": "markdown",
      "metadata": {
        "id": "EhnXEyJhKKc6"
      },
      "source": [
        "We can create a series by invoking the pd.Series( ) method, like this: "
      ]
    },
    {
      "cell_type": "code",
      "metadata": {
        "id": "M5ib0-EyKKc6"
      },
      "source": [
        "decades = pd.Series(np.array([10,20,30,40,50,60])) "
      ],
      "execution_count": null,
      "outputs": []
    },
    {
      "cell_type": "code",
      "metadata": {
        "id": "3ySUr90TKKc7",
        "colab": {
          "base_uri": "https://localhost:8080/"
        },
        "outputId": "2c788b60-185f-413f-aad9-e1c50d48b219"
      },
      "source": [
        "decades"
      ],
      "execution_count": null,
      "outputs": [
        {
          "output_type": "execute_result",
          "data": {
            "text/plain": [
              "0    10\n",
              "1    20\n",
              "2    30\n",
              "3    40\n",
              "4    50\n",
              "5    60\n",
              "dtype: int64"
            ]
          },
          "metadata": {},
          "execution_count": 5
        }
      ]
    },
    {
      "cell_type": "markdown",
      "metadata": {
        "id": "iQVRDE8hKKc8"
      },
      "source": [
        "As shown above, the index is assigned values from 0-5. "
      ]
    },
    {
      "cell_type": "markdown",
      "metadata": {
        "id": "87_wqVs5KKc8"
      },
      "source": [
        "## Exercise: Pandas Series🎿"
      ]
    },
    {
      "cell_type": "markdown",
      "metadata": {
        "id": "REG7WpeOKKc8"
      },
      "source": [
        "Exercise time!"
      ]
    },
    {
      "cell_type": "markdown",
      "metadata": {
        "id": "nOpmyZmPKKc9"
      },
      "source": [
        "- Create a Series for the lowest GDP's in the world:\n",
        "    - Czech Republic: 264.50\n",
        "    - Iraq:\t250.07\n",
        "    - Romania: 248.84\n",
        "    - Portugal:\t242.83\t\n",
        "\n",
        "Tip: See what arguments are available in [pd.Series](https://pandas.pydata.org/pandas-docs/stable/reference/api/pandas.Series.html) and use the countries as the index."
      ]
    },
    {
      "cell_type": "code",
      "metadata": {
        "id": "IZ-XaNVc1n21",
        "colab": {
          "base_uri": "https://localhost:8080/"
        },
        "outputId": "99d68294-da26-4f10-8cb0-f851aaadafba"
      },
      "source": [
        "# YOUR CODE HERE #\n",
        "d = {\"Czech Republic\": 264.50, \"Iraq\": 250.07, \"Romania\": 248.84, \"Portugal\": 242.83}\n",
        "GDPs = pd.Series(data = d)\n",
        "GDPs"
      ],
      "execution_count": null,
      "outputs": [
        {
          "output_type": "execute_result",
          "data": {
            "text/plain": [
              "Czech Republic    264.50\n",
              "Iraq              250.07\n",
              "Romania           248.84\n",
              "Portugal          242.83\n",
              "dtype: float64"
            ]
          },
          "metadata": {},
          "execution_count": 3
        }
      ]
    },
    {
      "cell_type": "markdown",
      "metadata": {
        "id": "2jjaY7yYKKc9"
      },
      "source": [
        "## [Pandas DataFrame](https://pandas.pydata.org/pandas-docs/stable/reference/api/pandas.DataFrame.html) 🐨"
      ]
    },
    {
      "cell_type": "markdown",
      "metadata": {
        "id": "ASC15gj_KKc9"
      },
      "source": [
        "The DataFrame is similar to a table. It organizes data into rows and columns as an two-dimensional data structure. The columns can be of different types, and the size of a DataFrame is modifiable. <br>\n",
        "Let's create a DataFrame of 14 animals, populated with age, weight, and length. <br> First, let's create a Python dictionary. "
      ]
    },
    {
      "cell_type": "code",
      "metadata": {
        "id": "vNcT0_XVKKc9"
      },
      "source": [
        "animal_dict = {\n",
        "     'Animal' : [\"Hamster\", \"Alligator\", \"Hamster\",\"Cat\", \"Snake\", \"Cat\",\"Hamster\", \"Cat\", \"Cat\", \"Snake\", \"Hamster\", \"Hamster\", \"Cat\", \"Alligator\"],\n",
        "     'Age' : [1,9,4,13,14,10,2,4,14,7,14,2,1,7],\n",
        "     'Weight': [7,13,8,12,11,8,10,14,9,11,10,10,9,14], \n",
        "     'Length' : [8,6,9,1,8,9,5,6,6,6,5,3,4,5] \n",
        "}"
      ],
      "execution_count": null,
      "outputs": []
    },
    {
      "cell_type": "markdown",
      "metadata": {
        "id": "ZDTmV7eEKKc-"
      },
      "source": [
        "Now, let's turn our Python dictionary into a DataFrame:"
      ]
    },
    {
      "cell_type": "code",
      "metadata": {
        "id": "UzIddfJFKKc-",
        "colab": {
          "base_uri": "https://localhost:8080/",
          "height": 488
        },
        "outputId": "8c8c0247-ef2e-42e6-be6e-e2903def40b0"
      },
      "source": [
        "animal = pd.DataFrame(animal_dict)\n",
        "animal"
      ],
      "execution_count": null,
      "outputs": [
        {
          "output_type": "execute_result",
          "data": {
            "text/html": [
              "\n",
              "  <div id=\"df-34f28763-6e24-4c1e-92ca-fd6df2b5af53\">\n",
              "    <div class=\"colab-df-container\">\n",
              "      <div>\n",
              "<style scoped>\n",
              "    .dataframe tbody tr th:only-of-type {\n",
              "        vertical-align: middle;\n",
              "    }\n",
              "\n",
              "    .dataframe tbody tr th {\n",
              "        vertical-align: top;\n",
              "    }\n",
              "\n",
              "    .dataframe thead th {\n",
              "        text-align: right;\n",
              "    }\n",
              "</style>\n",
              "<table border=\"1\" class=\"dataframe\">\n",
              "  <thead>\n",
              "    <tr style=\"text-align: right;\">\n",
              "      <th></th>\n",
              "      <th>Animal</th>\n",
              "      <th>Age</th>\n",
              "      <th>Weight</th>\n",
              "      <th>Length</th>\n",
              "    </tr>\n",
              "  </thead>\n",
              "  <tbody>\n",
              "    <tr>\n",
              "      <th>0</th>\n",
              "      <td>Hamster</td>\n",
              "      <td>1</td>\n",
              "      <td>7</td>\n",
              "      <td>8</td>\n",
              "    </tr>\n",
              "    <tr>\n",
              "      <th>1</th>\n",
              "      <td>Alligator</td>\n",
              "      <td>9</td>\n",
              "      <td>13</td>\n",
              "      <td>6</td>\n",
              "    </tr>\n",
              "    <tr>\n",
              "      <th>2</th>\n",
              "      <td>Hamster</td>\n",
              "      <td>4</td>\n",
              "      <td>8</td>\n",
              "      <td>9</td>\n",
              "    </tr>\n",
              "    <tr>\n",
              "      <th>3</th>\n",
              "      <td>Cat</td>\n",
              "      <td>13</td>\n",
              "      <td>12</td>\n",
              "      <td>1</td>\n",
              "    </tr>\n",
              "    <tr>\n",
              "      <th>4</th>\n",
              "      <td>Snake</td>\n",
              "      <td>14</td>\n",
              "      <td>11</td>\n",
              "      <td>8</td>\n",
              "    </tr>\n",
              "    <tr>\n",
              "      <th>5</th>\n",
              "      <td>Cat</td>\n",
              "      <td>10</td>\n",
              "      <td>8</td>\n",
              "      <td>9</td>\n",
              "    </tr>\n",
              "    <tr>\n",
              "      <th>6</th>\n",
              "      <td>Hamster</td>\n",
              "      <td>2</td>\n",
              "      <td>10</td>\n",
              "      <td>5</td>\n",
              "    </tr>\n",
              "    <tr>\n",
              "      <th>7</th>\n",
              "      <td>Cat</td>\n",
              "      <td>4</td>\n",
              "      <td>14</td>\n",
              "      <td>6</td>\n",
              "    </tr>\n",
              "    <tr>\n",
              "      <th>8</th>\n",
              "      <td>Cat</td>\n",
              "      <td>14</td>\n",
              "      <td>9</td>\n",
              "      <td>6</td>\n",
              "    </tr>\n",
              "    <tr>\n",
              "      <th>9</th>\n",
              "      <td>Snake</td>\n",
              "      <td>7</td>\n",
              "      <td>11</td>\n",
              "      <td>6</td>\n",
              "    </tr>\n",
              "    <tr>\n",
              "      <th>10</th>\n",
              "      <td>Hamster</td>\n",
              "      <td>14</td>\n",
              "      <td>10</td>\n",
              "      <td>5</td>\n",
              "    </tr>\n",
              "    <tr>\n",
              "      <th>11</th>\n",
              "      <td>Hamster</td>\n",
              "      <td>2</td>\n",
              "      <td>10</td>\n",
              "      <td>3</td>\n",
              "    </tr>\n",
              "    <tr>\n",
              "      <th>12</th>\n",
              "      <td>Cat</td>\n",
              "      <td>1</td>\n",
              "      <td>9</td>\n",
              "      <td>4</td>\n",
              "    </tr>\n",
              "    <tr>\n",
              "      <th>13</th>\n",
              "      <td>Alligator</td>\n",
              "      <td>7</td>\n",
              "      <td>14</td>\n",
              "      <td>5</td>\n",
              "    </tr>\n",
              "  </tbody>\n",
              "</table>\n",
              "</div>\n",
              "      <button class=\"colab-df-convert\" onclick=\"convertToInteractive('df-34f28763-6e24-4c1e-92ca-fd6df2b5af53')\"\n",
              "              title=\"Convert this dataframe to an interactive table.\"\n",
              "              style=\"display:none;\">\n",
              "        \n",
              "  <svg xmlns=\"http://www.w3.org/2000/svg\" height=\"24px\"viewBox=\"0 0 24 24\"\n",
              "       width=\"24px\">\n",
              "    <path d=\"M0 0h24v24H0V0z\" fill=\"none\"/>\n",
              "    <path d=\"M18.56 5.44l.94 2.06.94-2.06 2.06-.94-2.06-.94-.94-2.06-.94 2.06-2.06.94zm-11 1L8.5 8.5l.94-2.06 2.06-.94-2.06-.94L8.5 2.5l-.94 2.06-2.06.94zm10 10l.94 2.06.94-2.06 2.06-.94-2.06-.94-.94-2.06-.94 2.06-2.06.94z\"/><path d=\"M17.41 7.96l-1.37-1.37c-.4-.4-.92-.59-1.43-.59-.52 0-1.04.2-1.43.59L10.3 9.45l-7.72 7.72c-.78.78-.78 2.05 0 2.83L4 21.41c.39.39.9.59 1.41.59.51 0 1.02-.2 1.41-.59l7.78-7.78 2.81-2.81c.8-.78.8-2.07 0-2.86zM5.41 20L4 18.59l7.72-7.72 1.47 1.35L5.41 20z\"/>\n",
              "  </svg>\n",
              "      </button>\n",
              "      \n",
              "  <style>\n",
              "    .colab-df-container {\n",
              "      display:flex;\n",
              "      flex-wrap:wrap;\n",
              "      gap: 12px;\n",
              "    }\n",
              "\n",
              "    .colab-df-convert {\n",
              "      background-color: #E8F0FE;\n",
              "      border: none;\n",
              "      border-radius: 50%;\n",
              "      cursor: pointer;\n",
              "      display: none;\n",
              "      fill: #1967D2;\n",
              "      height: 32px;\n",
              "      padding: 0 0 0 0;\n",
              "      width: 32px;\n",
              "    }\n",
              "\n",
              "    .colab-df-convert:hover {\n",
              "      background-color: #E2EBFA;\n",
              "      box-shadow: 0px 1px 2px rgba(60, 64, 67, 0.3), 0px 1px 3px 1px rgba(60, 64, 67, 0.15);\n",
              "      fill: #174EA6;\n",
              "    }\n",
              "\n",
              "    [theme=dark] .colab-df-convert {\n",
              "      background-color: #3B4455;\n",
              "      fill: #D2E3FC;\n",
              "    }\n",
              "\n",
              "    [theme=dark] .colab-df-convert:hover {\n",
              "      background-color: #434B5C;\n",
              "      box-shadow: 0px 1px 3px 1px rgba(0, 0, 0, 0.15);\n",
              "      filter: drop-shadow(0px 1px 2px rgba(0, 0, 0, 0.3));\n",
              "      fill: #FFFFFF;\n",
              "    }\n",
              "  </style>\n",
              "\n",
              "      <script>\n",
              "        const buttonEl =\n",
              "          document.querySelector('#df-34f28763-6e24-4c1e-92ca-fd6df2b5af53 button.colab-df-convert');\n",
              "        buttonEl.style.display =\n",
              "          google.colab.kernel.accessAllowed ? 'block' : 'none';\n",
              "\n",
              "        async function convertToInteractive(key) {\n",
              "          const element = document.querySelector('#df-34f28763-6e24-4c1e-92ca-fd6df2b5af53');\n",
              "          const dataTable =\n",
              "            await google.colab.kernel.invokeFunction('convertToInteractive',\n",
              "                                                     [key], {});\n",
              "          if (!dataTable) return;\n",
              "\n",
              "          const docLinkHtml = 'Like what you see? Visit the ' +\n",
              "            '<a target=\"_blank\" href=https://colab.research.google.com/notebooks/data_table.ipynb>data table notebook</a>'\n",
              "            + ' to learn more about interactive tables.';\n",
              "          element.innerHTML = '';\n",
              "          dataTable['output_type'] = 'display_data';\n",
              "          await google.colab.output.renderOutput(dataTable, element);\n",
              "          const docLink = document.createElement('div');\n",
              "          docLink.innerHTML = docLinkHtml;\n",
              "          element.appendChild(docLink);\n",
              "        }\n",
              "      </script>\n",
              "    </div>\n",
              "  </div>\n",
              "  "
            ],
            "text/plain": [
              "       Animal  Age  Weight  Length\n",
              "0     Hamster    1       7       8\n",
              "1   Alligator    9      13       6\n",
              "2     Hamster    4       8       9\n",
              "3         Cat   13      12       1\n",
              "4       Snake   14      11       8\n",
              "5         Cat   10       8       9\n",
              "6     Hamster    2      10       5\n",
              "7         Cat    4      14       6\n",
              "8         Cat   14       9       6\n",
              "9       Snake    7      11       6\n",
              "10    Hamster   14      10       5\n",
              "11    Hamster    2      10       3\n",
              "12        Cat    1       9       4\n",
              "13  Alligator    7      14       5"
            ]
          },
          "metadata": {},
          "execution_count": 7
        }
      ]
    },
    {
      "cell_type": "markdown",
      "metadata": {
        "id": "HhGkmv6eu9PP"
      },
      "source": [
        "We turned a dictionary into a dataframe! Can you tell which parts of the dictionary became the headers and what became the values?"
      ]
    },
    {
      "cell_type": "markdown",
      "metadata": {
        "id": "1Pwq8wEQKKdA"
      },
      "source": [
        "### Pandas Methods 🐢"
      ]
    },
    {
      "cell_type": "markdown",
      "metadata": {
        "id": "4lADsQJFKKdB"
      },
      "source": [
        "Great! 👍 Pandas has many unique methods that we can use for data analysis and filtering. Let's first explore [**.unique( )**](https://pandas.pydata.org/pandas-docs/stable/reference/api/pandas.Series.unique.html). This method returns all the unique values in an given series or column:"
      ]
    },
    {
      "cell_type": "code",
      "metadata": {
        "id": "1cj0wYKYKKdB",
        "colab": {
          "base_uri": "https://localhost:8080/"
        },
        "outputId": "0f81e6b0-27fe-4293-a1e8-4f37497e977a"
      },
      "source": [
        "pd.unique(animal[\"Animal\"])"
      ],
      "execution_count": null,
      "outputs": [
        {
          "output_type": "execute_result",
          "data": {
            "text/plain": [
              "array(['Hamster', 'Alligator', 'Cat', 'Snake'], dtype=object)"
            ]
          },
          "metadata": {},
          "execution_count": 8
        }
      ]
    },
    {
      "cell_type": "markdown",
      "metadata": {
        "id": "pb8JvqIjKKdC"
      },
      "source": [
        "Let's now look at the [**describe()**](https://pandas.pydata.org/pandas-docs/stable/reference/api/pandas.DataFrame.describe.html)  method. This method returns the summary statistics of numerical columns. To return the numerical statistics, we write:"
      ]
    },
    {
      "cell_type": "code",
      "metadata": {
        "id": "252W6c8HKKdC",
        "colab": {
          "base_uri": "https://localhost:8080/",
          "height": 300
        },
        "outputId": "e352be33-2c3b-446e-c5b6-77952741e76c"
      },
      "source": [
        "animal.describe(include=[np.number])"
      ],
      "execution_count": null,
      "outputs": [
        {
          "output_type": "execute_result",
          "data": {
            "text/html": [
              "\n",
              "  <div id=\"df-6096e077-10e8-459f-bd73-c65c0a28ddc6\">\n",
              "    <div class=\"colab-df-container\">\n",
              "      <div>\n",
              "<style scoped>\n",
              "    .dataframe tbody tr th:only-of-type {\n",
              "        vertical-align: middle;\n",
              "    }\n",
              "\n",
              "    .dataframe tbody tr th {\n",
              "        vertical-align: top;\n",
              "    }\n",
              "\n",
              "    .dataframe thead th {\n",
              "        text-align: right;\n",
              "    }\n",
              "</style>\n",
              "<table border=\"1\" class=\"dataframe\">\n",
              "  <thead>\n",
              "    <tr style=\"text-align: right;\">\n",
              "      <th></th>\n",
              "      <th>Age</th>\n",
              "      <th>Weight</th>\n",
              "      <th>Length</th>\n",
              "    </tr>\n",
              "  </thead>\n",
              "  <tbody>\n",
              "    <tr>\n",
              "      <th>count</th>\n",
              "      <td>14.000000</td>\n",
              "      <td>14.000000</td>\n",
              "      <td>14.000000</td>\n",
              "    </tr>\n",
              "    <tr>\n",
              "      <th>mean</th>\n",
              "      <td>7.285714</td>\n",
              "      <td>10.428571</td>\n",
              "      <td>5.785714</td>\n",
              "    </tr>\n",
              "    <tr>\n",
              "      <th>std</th>\n",
              "      <td>5.075258</td>\n",
              "      <td>2.208873</td>\n",
              "      <td>2.259291</td>\n",
              "    </tr>\n",
              "    <tr>\n",
              "      <th>min</th>\n",
              "      <td>1.000000</td>\n",
              "      <td>7.000000</td>\n",
              "      <td>1.000000</td>\n",
              "    </tr>\n",
              "    <tr>\n",
              "      <th>25%</th>\n",
              "      <td>2.500000</td>\n",
              "      <td>9.000000</td>\n",
              "      <td>5.000000</td>\n",
              "    </tr>\n",
              "    <tr>\n",
              "      <th>50%</th>\n",
              "      <td>7.000000</td>\n",
              "      <td>10.000000</td>\n",
              "      <td>6.000000</td>\n",
              "    </tr>\n",
              "    <tr>\n",
              "      <th>75%</th>\n",
              "      <td>12.250000</td>\n",
              "      <td>11.750000</td>\n",
              "      <td>7.500000</td>\n",
              "    </tr>\n",
              "    <tr>\n",
              "      <th>max</th>\n",
              "      <td>14.000000</td>\n",
              "      <td>14.000000</td>\n",
              "      <td>9.000000</td>\n",
              "    </tr>\n",
              "  </tbody>\n",
              "</table>\n",
              "</div>\n",
              "      <button class=\"colab-df-convert\" onclick=\"convertToInteractive('df-6096e077-10e8-459f-bd73-c65c0a28ddc6')\"\n",
              "              title=\"Convert this dataframe to an interactive table.\"\n",
              "              style=\"display:none;\">\n",
              "        \n",
              "  <svg xmlns=\"http://www.w3.org/2000/svg\" height=\"24px\"viewBox=\"0 0 24 24\"\n",
              "       width=\"24px\">\n",
              "    <path d=\"M0 0h24v24H0V0z\" fill=\"none\"/>\n",
              "    <path d=\"M18.56 5.44l.94 2.06.94-2.06 2.06-.94-2.06-.94-.94-2.06-.94 2.06-2.06.94zm-11 1L8.5 8.5l.94-2.06 2.06-.94-2.06-.94L8.5 2.5l-.94 2.06-2.06.94zm10 10l.94 2.06.94-2.06 2.06-.94-2.06-.94-.94-2.06-.94 2.06-2.06.94z\"/><path d=\"M17.41 7.96l-1.37-1.37c-.4-.4-.92-.59-1.43-.59-.52 0-1.04.2-1.43.59L10.3 9.45l-7.72 7.72c-.78.78-.78 2.05 0 2.83L4 21.41c.39.39.9.59 1.41.59.51 0 1.02-.2 1.41-.59l7.78-7.78 2.81-2.81c.8-.78.8-2.07 0-2.86zM5.41 20L4 18.59l7.72-7.72 1.47 1.35L5.41 20z\"/>\n",
              "  </svg>\n",
              "      </button>\n",
              "      \n",
              "  <style>\n",
              "    .colab-df-container {\n",
              "      display:flex;\n",
              "      flex-wrap:wrap;\n",
              "      gap: 12px;\n",
              "    }\n",
              "\n",
              "    .colab-df-convert {\n",
              "      background-color: #E8F0FE;\n",
              "      border: none;\n",
              "      border-radius: 50%;\n",
              "      cursor: pointer;\n",
              "      display: none;\n",
              "      fill: #1967D2;\n",
              "      height: 32px;\n",
              "      padding: 0 0 0 0;\n",
              "      width: 32px;\n",
              "    }\n",
              "\n",
              "    .colab-df-convert:hover {\n",
              "      background-color: #E2EBFA;\n",
              "      box-shadow: 0px 1px 2px rgba(60, 64, 67, 0.3), 0px 1px 3px 1px rgba(60, 64, 67, 0.15);\n",
              "      fill: #174EA6;\n",
              "    }\n",
              "\n",
              "    [theme=dark] .colab-df-convert {\n",
              "      background-color: #3B4455;\n",
              "      fill: #D2E3FC;\n",
              "    }\n",
              "\n",
              "    [theme=dark] .colab-df-convert:hover {\n",
              "      background-color: #434B5C;\n",
              "      box-shadow: 0px 1px 3px 1px rgba(0, 0, 0, 0.15);\n",
              "      filter: drop-shadow(0px 1px 2px rgba(0, 0, 0, 0.3));\n",
              "      fill: #FFFFFF;\n",
              "    }\n",
              "  </style>\n",
              "\n",
              "      <script>\n",
              "        const buttonEl =\n",
              "          document.querySelector('#df-6096e077-10e8-459f-bd73-c65c0a28ddc6 button.colab-df-convert');\n",
              "        buttonEl.style.display =\n",
              "          google.colab.kernel.accessAllowed ? 'block' : 'none';\n",
              "\n",
              "        async function convertToInteractive(key) {\n",
              "          const element = document.querySelector('#df-6096e077-10e8-459f-bd73-c65c0a28ddc6');\n",
              "          const dataTable =\n",
              "            await google.colab.kernel.invokeFunction('convertToInteractive',\n",
              "                                                     [key], {});\n",
              "          if (!dataTable) return;\n",
              "\n",
              "          const docLinkHtml = 'Like what you see? Visit the ' +\n",
              "            '<a target=\"_blank\" href=https://colab.research.google.com/notebooks/data_table.ipynb>data table notebook</a>'\n",
              "            + ' to learn more about interactive tables.';\n",
              "          element.innerHTML = '';\n",
              "          dataTable['output_type'] = 'display_data';\n",
              "          await google.colab.output.renderOutput(dataTable, element);\n",
              "          const docLink = document.createElement('div');\n",
              "          docLink.innerHTML = docLinkHtml;\n",
              "          element.appendChild(docLink);\n",
              "        }\n",
              "      </script>\n",
              "    </div>\n",
              "  </div>\n",
              "  "
            ],
            "text/plain": [
              "             Age     Weight     Length\n",
              "count  14.000000  14.000000  14.000000\n",
              "mean    7.285714  10.428571   5.785714\n",
              "std     5.075258   2.208873   2.259291\n",
              "min     1.000000   7.000000   1.000000\n",
              "25%     2.500000   9.000000   5.000000\n",
              "50%     7.000000  10.000000   6.000000\n",
              "75%    12.250000  11.750000   7.500000\n",
              "max    14.000000  14.000000   9.000000"
            ]
          },
          "metadata": {},
          "execution_count": 9
        }
      ]
    },
    {
      "cell_type": "markdown",
      "metadata": {
        "id": "BsKjmT16KKdD"
      },
      "source": [
        "Super simple! 🥳  **np.number** simply returns the numerical columns and excludes other data types. Now, let's attempt to filter columns in Pandas. <br> \n",
        "To filter in Pandas, we simply use brackets. Let's try one example:"
      ]
    },
    {
      "cell_type": "code",
      "metadata": {
        "id": "BPvwh15bKKdD",
        "colab": {
          "base_uri": "https://localhost:8080/",
          "height": 238
        },
        "outputId": "e1fd7bce-ba80-4298-f167-42612b9901c5"
      },
      "source": [
        "animal[animal[\"Weight\"] > 10]"
      ],
      "execution_count": null,
      "outputs": [
        {
          "output_type": "execute_result",
          "data": {
            "text/html": [
              "\n",
              "  <div id=\"df-6e17940d-f5db-4885-9d18-e607194dff3c\">\n",
              "    <div class=\"colab-df-container\">\n",
              "      <div>\n",
              "<style scoped>\n",
              "    .dataframe tbody tr th:only-of-type {\n",
              "        vertical-align: middle;\n",
              "    }\n",
              "\n",
              "    .dataframe tbody tr th {\n",
              "        vertical-align: top;\n",
              "    }\n",
              "\n",
              "    .dataframe thead th {\n",
              "        text-align: right;\n",
              "    }\n",
              "</style>\n",
              "<table border=\"1\" class=\"dataframe\">\n",
              "  <thead>\n",
              "    <tr style=\"text-align: right;\">\n",
              "      <th></th>\n",
              "      <th>Animal</th>\n",
              "      <th>Age</th>\n",
              "      <th>Weight</th>\n",
              "      <th>Length</th>\n",
              "    </tr>\n",
              "  </thead>\n",
              "  <tbody>\n",
              "    <tr>\n",
              "      <th>1</th>\n",
              "      <td>Alligator</td>\n",
              "      <td>9</td>\n",
              "      <td>13</td>\n",
              "      <td>6</td>\n",
              "    </tr>\n",
              "    <tr>\n",
              "      <th>3</th>\n",
              "      <td>Cat</td>\n",
              "      <td>13</td>\n",
              "      <td>12</td>\n",
              "      <td>1</td>\n",
              "    </tr>\n",
              "    <tr>\n",
              "      <th>4</th>\n",
              "      <td>Snake</td>\n",
              "      <td>14</td>\n",
              "      <td>11</td>\n",
              "      <td>8</td>\n",
              "    </tr>\n",
              "    <tr>\n",
              "      <th>7</th>\n",
              "      <td>Cat</td>\n",
              "      <td>4</td>\n",
              "      <td>14</td>\n",
              "      <td>6</td>\n",
              "    </tr>\n",
              "    <tr>\n",
              "      <th>9</th>\n",
              "      <td>Snake</td>\n",
              "      <td>7</td>\n",
              "      <td>11</td>\n",
              "      <td>6</td>\n",
              "    </tr>\n",
              "    <tr>\n",
              "      <th>13</th>\n",
              "      <td>Alligator</td>\n",
              "      <td>7</td>\n",
              "      <td>14</td>\n",
              "      <td>5</td>\n",
              "    </tr>\n",
              "  </tbody>\n",
              "</table>\n",
              "</div>\n",
              "      <button class=\"colab-df-convert\" onclick=\"convertToInteractive('df-6e17940d-f5db-4885-9d18-e607194dff3c')\"\n",
              "              title=\"Convert this dataframe to an interactive table.\"\n",
              "              style=\"display:none;\">\n",
              "        \n",
              "  <svg xmlns=\"http://www.w3.org/2000/svg\" height=\"24px\"viewBox=\"0 0 24 24\"\n",
              "       width=\"24px\">\n",
              "    <path d=\"M0 0h24v24H0V0z\" fill=\"none\"/>\n",
              "    <path d=\"M18.56 5.44l.94 2.06.94-2.06 2.06-.94-2.06-.94-.94-2.06-.94 2.06-2.06.94zm-11 1L8.5 8.5l.94-2.06 2.06-.94-2.06-.94L8.5 2.5l-.94 2.06-2.06.94zm10 10l.94 2.06.94-2.06 2.06-.94-2.06-.94-.94-2.06-.94 2.06-2.06.94z\"/><path d=\"M17.41 7.96l-1.37-1.37c-.4-.4-.92-.59-1.43-.59-.52 0-1.04.2-1.43.59L10.3 9.45l-7.72 7.72c-.78.78-.78 2.05 0 2.83L4 21.41c.39.39.9.59 1.41.59.51 0 1.02-.2 1.41-.59l7.78-7.78 2.81-2.81c.8-.78.8-2.07 0-2.86zM5.41 20L4 18.59l7.72-7.72 1.47 1.35L5.41 20z\"/>\n",
              "  </svg>\n",
              "      </button>\n",
              "      \n",
              "  <style>\n",
              "    .colab-df-container {\n",
              "      display:flex;\n",
              "      flex-wrap:wrap;\n",
              "      gap: 12px;\n",
              "    }\n",
              "\n",
              "    .colab-df-convert {\n",
              "      background-color: #E8F0FE;\n",
              "      border: none;\n",
              "      border-radius: 50%;\n",
              "      cursor: pointer;\n",
              "      display: none;\n",
              "      fill: #1967D2;\n",
              "      height: 32px;\n",
              "      padding: 0 0 0 0;\n",
              "      width: 32px;\n",
              "    }\n",
              "\n",
              "    .colab-df-convert:hover {\n",
              "      background-color: #E2EBFA;\n",
              "      box-shadow: 0px 1px 2px rgba(60, 64, 67, 0.3), 0px 1px 3px 1px rgba(60, 64, 67, 0.15);\n",
              "      fill: #174EA6;\n",
              "    }\n",
              "\n",
              "    [theme=dark] .colab-df-convert {\n",
              "      background-color: #3B4455;\n",
              "      fill: #D2E3FC;\n",
              "    }\n",
              "\n",
              "    [theme=dark] .colab-df-convert:hover {\n",
              "      background-color: #434B5C;\n",
              "      box-shadow: 0px 1px 3px 1px rgba(0, 0, 0, 0.15);\n",
              "      filter: drop-shadow(0px 1px 2px rgba(0, 0, 0, 0.3));\n",
              "      fill: #FFFFFF;\n",
              "    }\n",
              "  </style>\n",
              "\n",
              "      <script>\n",
              "        const buttonEl =\n",
              "          document.querySelector('#df-6e17940d-f5db-4885-9d18-e607194dff3c button.colab-df-convert');\n",
              "        buttonEl.style.display =\n",
              "          google.colab.kernel.accessAllowed ? 'block' : 'none';\n",
              "\n",
              "        async function convertToInteractive(key) {\n",
              "          const element = document.querySelector('#df-6e17940d-f5db-4885-9d18-e607194dff3c');\n",
              "          const dataTable =\n",
              "            await google.colab.kernel.invokeFunction('convertToInteractive',\n",
              "                                                     [key], {});\n",
              "          if (!dataTable) return;\n",
              "\n",
              "          const docLinkHtml = 'Like what you see? Visit the ' +\n",
              "            '<a target=\"_blank\" href=https://colab.research.google.com/notebooks/data_table.ipynb>data table notebook</a>'\n",
              "            + ' to learn more about interactive tables.';\n",
              "          element.innerHTML = '';\n",
              "          dataTable['output_type'] = 'display_data';\n",
              "          await google.colab.output.renderOutput(dataTable, element);\n",
              "          const docLink = document.createElement('div');\n",
              "          docLink.innerHTML = docLinkHtml;\n",
              "          element.appendChild(docLink);\n",
              "        }\n",
              "      </script>\n",
              "    </div>\n",
              "  </div>\n",
              "  "
            ],
            "text/plain": [
              "       Animal  Age  Weight  Length\n",
              "1   Alligator    9      13       6\n",
              "3         Cat   13      12       1\n",
              "4       Snake   14      11       8\n",
              "7         Cat    4      14       6\n",
              "9       Snake    7      11       6\n",
              "13  Alligator    7      14       5"
            ]
          },
          "metadata": {},
          "execution_count": 10
        }
      ]
    },
    {
      "cell_type": "markdown",
      "metadata": {
        "id": "Pey_gUxLKKdF"
      },
      "source": [
        "🐍 Python is wonderful because it's so intuitive. We pointed to **animal**, and then to the **\"Weight\"** column. At this point, we filtered for numbers greater than 10\n",
        ". "
      ]
    },
    {
      "cell_type": "markdown",
      "metadata": {
        "id": "CgYln5WbKKdF"
      },
      "source": [
        "What if we want to find rows between a certain subset? We can use the '&' operator: "
      ]
    },
    {
      "cell_type": "code",
      "metadata": {
        "id": "dVlSA9sZKKdF",
        "colab": {
          "base_uri": "https://localhost:8080/",
          "height": 269
        },
        "outputId": "d596a56d-bb64-4c57-a701-2e008f4f0218"
      },
      "source": [
        "animal[(animal[\"Length\"] > 4) & (animal[\"Length\"] < 8)] "
      ],
      "execution_count": null,
      "outputs": [
        {
          "output_type": "execute_result",
          "data": {
            "text/html": [
              "\n",
              "  <div id=\"df-7b20464c-61e1-403e-8320-0485666343fe\">\n",
              "    <div class=\"colab-df-container\">\n",
              "      <div>\n",
              "<style scoped>\n",
              "    .dataframe tbody tr th:only-of-type {\n",
              "        vertical-align: middle;\n",
              "    }\n",
              "\n",
              "    .dataframe tbody tr th {\n",
              "        vertical-align: top;\n",
              "    }\n",
              "\n",
              "    .dataframe thead th {\n",
              "        text-align: right;\n",
              "    }\n",
              "</style>\n",
              "<table border=\"1\" class=\"dataframe\">\n",
              "  <thead>\n",
              "    <tr style=\"text-align: right;\">\n",
              "      <th></th>\n",
              "      <th>Animal</th>\n",
              "      <th>Age</th>\n",
              "      <th>Weight</th>\n",
              "      <th>Length</th>\n",
              "    </tr>\n",
              "  </thead>\n",
              "  <tbody>\n",
              "    <tr>\n",
              "      <th>1</th>\n",
              "      <td>Alligator</td>\n",
              "      <td>9</td>\n",
              "      <td>13</td>\n",
              "      <td>6</td>\n",
              "    </tr>\n",
              "    <tr>\n",
              "      <th>6</th>\n",
              "      <td>Hamster</td>\n",
              "      <td>2</td>\n",
              "      <td>10</td>\n",
              "      <td>5</td>\n",
              "    </tr>\n",
              "    <tr>\n",
              "      <th>7</th>\n",
              "      <td>Cat</td>\n",
              "      <td>4</td>\n",
              "      <td>14</td>\n",
              "      <td>6</td>\n",
              "    </tr>\n",
              "    <tr>\n",
              "      <th>8</th>\n",
              "      <td>Cat</td>\n",
              "      <td>14</td>\n",
              "      <td>9</td>\n",
              "      <td>6</td>\n",
              "    </tr>\n",
              "    <tr>\n",
              "      <th>9</th>\n",
              "      <td>Snake</td>\n",
              "      <td>7</td>\n",
              "      <td>11</td>\n",
              "      <td>6</td>\n",
              "    </tr>\n",
              "    <tr>\n",
              "      <th>10</th>\n",
              "      <td>Hamster</td>\n",
              "      <td>14</td>\n",
              "      <td>10</td>\n",
              "      <td>5</td>\n",
              "    </tr>\n",
              "    <tr>\n",
              "      <th>13</th>\n",
              "      <td>Alligator</td>\n",
              "      <td>7</td>\n",
              "      <td>14</td>\n",
              "      <td>5</td>\n",
              "    </tr>\n",
              "  </tbody>\n",
              "</table>\n",
              "</div>\n",
              "      <button class=\"colab-df-convert\" onclick=\"convertToInteractive('df-7b20464c-61e1-403e-8320-0485666343fe')\"\n",
              "              title=\"Convert this dataframe to an interactive table.\"\n",
              "              style=\"display:none;\">\n",
              "        \n",
              "  <svg xmlns=\"http://www.w3.org/2000/svg\" height=\"24px\"viewBox=\"0 0 24 24\"\n",
              "       width=\"24px\">\n",
              "    <path d=\"M0 0h24v24H0V0z\" fill=\"none\"/>\n",
              "    <path d=\"M18.56 5.44l.94 2.06.94-2.06 2.06-.94-2.06-.94-.94-2.06-.94 2.06-2.06.94zm-11 1L8.5 8.5l.94-2.06 2.06-.94-2.06-.94L8.5 2.5l-.94 2.06-2.06.94zm10 10l.94 2.06.94-2.06 2.06-.94-2.06-.94-.94-2.06-.94 2.06-2.06.94z\"/><path d=\"M17.41 7.96l-1.37-1.37c-.4-.4-.92-.59-1.43-.59-.52 0-1.04.2-1.43.59L10.3 9.45l-7.72 7.72c-.78.78-.78 2.05 0 2.83L4 21.41c.39.39.9.59 1.41.59.51 0 1.02-.2 1.41-.59l7.78-7.78 2.81-2.81c.8-.78.8-2.07 0-2.86zM5.41 20L4 18.59l7.72-7.72 1.47 1.35L5.41 20z\"/>\n",
              "  </svg>\n",
              "      </button>\n",
              "      \n",
              "  <style>\n",
              "    .colab-df-container {\n",
              "      display:flex;\n",
              "      flex-wrap:wrap;\n",
              "      gap: 12px;\n",
              "    }\n",
              "\n",
              "    .colab-df-convert {\n",
              "      background-color: #E8F0FE;\n",
              "      border: none;\n",
              "      border-radius: 50%;\n",
              "      cursor: pointer;\n",
              "      display: none;\n",
              "      fill: #1967D2;\n",
              "      height: 32px;\n",
              "      padding: 0 0 0 0;\n",
              "      width: 32px;\n",
              "    }\n",
              "\n",
              "    .colab-df-convert:hover {\n",
              "      background-color: #E2EBFA;\n",
              "      box-shadow: 0px 1px 2px rgba(60, 64, 67, 0.3), 0px 1px 3px 1px rgba(60, 64, 67, 0.15);\n",
              "      fill: #174EA6;\n",
              "    }\n",
              "\n",
              "    [theme=dark] .colab-df-convert {\n",
              "      background-color: #3B4455;\n",
              "      fill: #D2E3FC;\n",
              "    }\n",
              "\n",
              "    [theme=dark] .colab-df-convert:hover {\n",
              "      background-color: #434B5C;\n",
              "      box-shadow: 0px 1px 3px 1px rgba(0, 0, 0, 0.15);\n",
              "      filter: drop-shadow(0px 1px 2px rgba(0, 0, 0, 0.3));\n",
              "      fill: #FFFFFF;\n",
              "    }\n",
              "  </style>\n",
              "\n",
              "      <script>\n",
              "        const buttonEl =\n",
              "          document.querySelector('#df-7b20464c-61e1-403e-8320-0485666343fe button.colab-df-convert');\n",
              "        buttonEl.style.display =\n",
              "          google.colab.kernel.accessAllowed ? 'block' : 'none';\n",
              "\n",
              "        async function convertToInteractive(key) {\n",
              "          const element = document.querySelector('#df-7b20464c-61e1-403e-8320-0485666343fe');\n",
              "          const dataTable =\n",
              "            await google.colab.kernel.invokeFunction('convertToInteractive',\n",
              "                                                     [key], {});\n",
              "          if (!dataTable) return;\n",
              "\n",
              "          const docLinkHtml = 'Like what you see? Visit the ' +\n",
              "            '<a target=\"_blank\" href=https://colab.research.google.com/notebooks/data_table.ipynb>data table notebook</a>'\n",
              "            + ' to learn more about interactive tables.';\n",
              "          element.innerHTML = '';\n",
              "          dataTable['output_type'] = 'display_data';\n",
              "          await google.colab.output.renderOutput(dataTable, element);\n",
              "          const docLink = document.createElement('div');\n",
              "          docLink.innerHTML = docLinkHtml;\n",
              "          element.appendChild(docLink);\n",
              "        }\n",
              "      </script>\n",
              "    </div>\n",
              "  </div>\n",
              "  "
            ],
            "text/plain": [
              "       Animal  Age  Weight  Length\n",
              "1   Alligator    9      13       6\n",
              "6     Hamster    2      10       5\n",
              "7         Cat    4      14       6\n",
              "8         Cat   14       9       6\n",
              "9       Snake    7      11       6\n",
              "10    Hamster   14      10       5\n",
              "13  Alligator    7      14       5"
            ]
          },
          "metadata": {},
          "execution_count": 11
        }
      ]
    },
    {
      "cell_type": "markdown",
      "metadata": {
        "id": "x6wsJ_pyKKdG"
      },
      "source": [
        "We are almost finished our review of Pandas DataFrames. 🤠 Let's now turn our attention to [**.groupby()**](https://pandas.pydata.org/pandas-docs/stable/reference/api/pandas.DataFrame.groupby.html). The Groupby method involves grouping data around a particular category and applying analysis. This would be useful if you were interested in answering the question, \"What's the average weight of all the snakes, cats, hamsters, and alligators?\" To find the average weight of each category of animal, we'll group the animals by animal type and then apply the mean function. We could apply other functions too. We could apply \"sum\" to add up all the weights, \"min\" to find the lowest, \"max\" to get the highest, or \"count\" just to get a count of each animal type:"
      ]
    },
    {
      "cell_type": "code",
      "metadata": {
        "id": "g_QWyOf0KKdJ",
        "colab": {
          "base_uri": "https://localhost:8080/"
        },
        "outputId": "520a452f-3a34-4545-c605-8b5d3c67f715"
      },
      "source": [
        "animal_groups = animal.groupby(\"Animal\")\n",
        "animal_groups['Weight'].mean()"
      ],
      "execution_count": null,
      "outputs": [
        {
          "output_type": "execute_result",
          "data": {
            "text/plain": [
              "Animal\n",
              "Alligator    13.5\n",
              "Cat          10.4\n",
              "Hamster       9.0\n",
              "Snake        11.0\n",
              "Name: Weight, dtype: float64"
            ]
          },
          "metadata": {},
          "execution_count": 12
        }
      ]
    },
    {
      "cell_type": "markdown",
      "metadata": {
        "id": "4KhditFY4MKJ"
      },
      "source": [
        "## Exercise 3: DataFrame 🏃\n",
        "- Open the [UN Dataset](http://data.un.org/_Docs/SYB/PDFs/SYB60_T03_Population%20Growth,%20Fertility%20and%20Mortality%20Indicators.pdf) \n",
        "- Create a DataFrame using **Northern Africa**, **Sub-Saharan Africa**, **Eastern Asia** and **Western Europe**. For these areas, create columns for *Population Rate of Increase*, *Fertility Rate*, and *Infant Mortality* for the year 2005.\n",
        "- Using filtering, sort for the countries that have infant mortality between 30 and 50. \n",
        "- Find the max for Infant Mortality for the four areas"
      ]
    },
    {
      "cell_type": "code",
      "metadata": {
        "id": "l3OMB15zxBY_"
      },
      "source": [
        "# YOUR CODE HERE #"
      ],
      "execution_count": null,
      "outputs": []
    },
    {
      "cell_type": "code",
      "metadata": {
        "id": "b0MAN8Sv1s3e"
      },
      "source": [
        "# YOUR CODE HERE #"
      ],
      "execution_count": null,
      "outputs": []
    },
    {
      "cell_type": "code",
      "metadata": {
        "id": "bhdjo8rt1s_B"
      },
      "source": [
        "# YOUR CODE HERE #"
      ],
      "execution_count": null,
      "outputs": []
    },
    {
      "cell_type": "code",
      "metadata": {
        "id": "qNXPKrO31tJc"
      },
      "source": [
        "# YOUR CODE HERE #"
      ],
      "execution_count": null,
      "outputs": []
    },
    {
      "cell_type": "markdown",
      "metadata": {
        "id": "8ni5XbrPKKdM"
      },
      "source": [
        "With that, we've completed our review of the Python library Pandas. If you have any lingering questions, do ask! You can find more on Pandas on their [official website](pandas.pydata.org)."
      ]
    },
    {
      "cell_type": "markdown",
      "metadata": {
        "id": "N6zknks8KKdM"
      },
      "source": [
        "# Matplotlib: A (Tiny) Introduction 📈"
      ]
    },
    {
      "cell_type": "markdown",
      "metadata": {
        "id": "Ncf6gLKkKKdM"
      },
      "source": [
        "Matplotlib is a Python 2D plotting library which produces  plots, histograms, power spectra, bar charts, errorcharts, scatterplots, etc. with just a few lines of code. Source: [Matplotlib](https://matplotlib.org). <br> \n",
        "We'll cover only some of the coolest features in this Notebook due to time constraints. You can explore more on the [official website](https://matplotlib.org/tutorials/index.html)"
      ]
    },
    {
      "cell_type": "markdown",
      "metadata": {
        "id": "AF_UaXHGKKdM"
      },
      "source": [
        "Let's import the `matplotlib` library under the alias `plt`"
      ]
    },
    {
      "cell_type": "code",
      "metadata": {
        "id": "SPimxVV7KKdM"
      },
      "source": [
        "import matplotlib.pyplot as plt"
      ],
      "execution_count": null,
      "outputs": []
    },
    {
      "cell_type": "markdown",
      "metadata": {
        "id": "sQNhgmjFKKdN"
      },
      "source": [
        "### Pyplot"
      ]
    },
    {
      "cell_type": "markdown",
      "metadata": {
        "id": "9WbbAMlRKKdN"
      },
      "source": [
        "Pyplot is a module of Matplotlib which provides simple functions to add plot elements like lines, images, text, etc. to the current axes in the current figure."
      ]
    },
    {
      "cell_type": "markdown",
      "metadata": {
        "id": "00Fel6ykKKdN"
      },
      "source": [
        "We'll import the Pyplot module to create a simple plot. We will be using two NumPy arrays - one for the x-coordinates and another for the y-coordinates:"
      ]
    },
    {
      "cell_type": "code",
      "metadata": {
        "id": "sLSc7SbHKKdN",
        "colab": {
          "base_uri": "https://localhost:8080/",
          "height": 265
        },
        "outputId": "a86745d8-3251-46fd-8678-b4b80c8b45dc"
      },
      "source": [
        "plt.plot([1,2,3,4],[1,4,9,16]) # plt.plot([x-coordinates], [y-coordinates])\n",
        "plt.show()"
      ],
      "execution_count": null,
      "outputs": [
        {
          "output_type": "display_data",
          "data": {
            "image/png": "[encoded data removed]",
            "text/plain": [
              "<Figure size 432x288 with 1 Axes>"
            ]
          },
          "metadata": {
            "needs_background": "light"
          }
        }
      ]
    },
    {
      "cell_type": "markdown",
      "metadata": {
        "id": "weoDq9MYKKdO"
      },
      "source": [
        "Now, we can add titles, and labels:"
      ]
    },
    {
      "cell_type": "code",
      "metadata": {
        "id": "iHnwLMXHKKdO",
        "colab": {
          "base_uri": "https://localhost:8080/",
          "height": 295
        },
        "outputId": "d067be0f-fb0a-4120-90f6-f15f6a350fe9"
      },
      "source": [
        "plt.plot([1,2,3,4],[1,4,9,16]) # plt.plot([x-coordinates], [y-coordinates])\n",
        "plt.title(\"First Plot\")\n",
        "plt.xlabel(\"X Label\")\n",
        "plt.ylabel(\"Y Label\")\n",
        "plt.show()"
      ],
      "execution_count": null,
      "outputs": [
        {
          "output_type": "display_data",
          "data": {
            "image/png": "[encoded data removed]",
            "text/plain": [
              "<Figure size 432x288 with 1 Axes>"
            ]
          },
          "metadata": {
            "needs_background": "light"
          }
        }
      ]
    },
    {
      "cell_type": "markdown",
      "metadata": {
        "id": "LH76ssZnKKdP"
      },
      "source": [
        "Another commonly used graph in Machine Learning is the Scatter Plot. Let's create a basic scatterplot in MatPlotLib comparing the distribution of height vs. weight: "
      ]
    },
    {
      "cell_type": "code",
      "metadata": {
        "id": "9O0CPOx4KKdQ",
        "colab": {
          "base_uri": "https://localhost:8080/",
          "height": 295
        },
        "outputId": "d6f69d66-61f9-4488-ba7d-0906e6ed222f"
      },
      "source": [
        "height = np.array([167, 170, 149, 165, 155, 180, 166, 146, 159, 185, 145, 168, 172, 181, 169])\n",
        "weight = np.array([86,74,66,78,68,79,90,73,70,88,66,84, 67, 84, 77])\n",
        "\n",
        "#We can set the limit (lower, upper) for the x-axis and the y-axis using xlim and ylim, respectively.\n",
        "plt.xlim(140, 200)\n",
        "plt.ylim(60,100)\n",
        "#A scatterplot can be generated through .scatter(x,y)\n",
        "plt.scatter(height,weight)\n",
        "plt.title(\"Comparing Height vs. Weight\")\n",
        "plt.xlabel(\"Height\")\n",
        "plt.ylabel(\"Weight\")\n",
        "plt.show()"
      ],
      "execution_count": null,
      "outputs": [
        {
          "output_type": "display_data",
          "data": {
            "image/png": "[encoded data removed]",
            "text/plain": [
              "<Figure size 432x288 with 1 Axes>"
            ]
          },
          "metadata": {
            "needs_background": "light"
          }
        }
      ]
    },
    {
      "cell_type": "markdown",
      "metadata": {
        "id": "6mxMn_4bKKdR"
      },
      "source": [
        "## Exercise: MatPlotLib 🏃 "
      ]
    },
    {
      "cell_type": "markdown",
      "metadata": {
        "id": "3LfHjeNWKKdR"
      },
      "source": [
        "- Using the data for the animal weights and lengths, create an scatterplot comparing the information. \n",
        "\n",
        "Note: Remember to properly label the graph (x-axis, y-axis, and title!)"
      ]
    },
    {
      "cell_type": "code",
      "metadata": {
        "id": "xFK94CA71yul",
        "colab": {
          "base_uri": "https://localhost:8080/",
          "height": 295
        },
        "outputId": "84d98019-7569-4aca-e576-2ceca892750f"
      },
      "source": [
        "# YOUR CODE HERE #\n",
        "animal_weights = np.array(animal['Weight'])\n",
        "animal_lengths = np.array(animal['Length'])\n",
        "\n",
        "plt.scatter(animal_weights, animal_lengths)\n",
        "plt.title(\"Animal Weight vs. Length\")\n",
        "plt.xlabel(\"Weight\")\n",
        "plt.ylabel(\"Length\")\n",
        "\n",
        "plt.show()"
      ],
      "execution_count": null,
      "outputs": [
        {
          "output_type": "display_data",
          "data": {
            "image/png": "[encoded data removed]",
            "text/plain": [
              "<Figure size 432x288 with 1 Axes>"
            ]
          },
          "metadata": {
            "needs_background": "light"
          }
        }
      ]
    },
    {
      "cell_type": "markdown",
      "metadata": {
        "id": "wh-AfqzEKKdR"
      },
      "source": [
        "# Seaborn: Another (tiny) introduction 🌊 "
      ]
    },
    {
      "cell_type": "markdown",
      "metadata": {
        "id": "X3OFm9_LKKdR"
      },
      "source": [
        "Let's first import the library for seaborn under the alias sns:"
      ]
    },
    {
      "cell_type": "code",
      "metadata": {
        "id": "ghg0flCUytpS"
      },
      "source": [
        "import seaborn as sns"
      ],
      "execution_count": null,
      "outputs": []
    },
    {
      "cell_type": "markdown",
      "metadata": {
        "id": "9kT_EQIkKKdS"
      },
      "source": [
        "Let's import a csv file - comma-seperated values - that details the total bill costs and the tips. We'll run a scatterplot on this data:"
      ]
    },
    {
      "cell_type": "code",
      "metadata": {
        "id": "bx-QuQQ3KKdT",
        "colab": {
          "base_uri": "https://localhost:8080/",
          "height": 280
        },
        "outputId": "f8f79e18-fc34-470a-dd55-594d3be4bdea"
      },
      "source": [
        "# Run this code to import the data and read it in using 'pd.read_csv('file')'\n",
        "tips = pd.read_csv('tips.csv')\n",
        "ax = sns.scatterplot(x=\"total_bill\", y=\"tip\", data=tips) #plotting it"
      ],
      "execution_count": null,
      "outputs": [
        {
          "output_type": "display_data",
          "data": {
            "image/png": "[encoded data removed]",
            "text/plain": [
              "<Figure size 432x288 with 1 Axes>"
            ]
          },
          "metadata": {
            "needs_background": "light"
          }
        }
      ]
    },
    {
      "cell_type": "markdown",
      "metadata": {
        "id": "gUDdScq-KKdU"
      },
      "source": [
        "The scatterplot above does not discriminate between the days of the week. What if we wanted to see the distribution of the data for each day? \n",
        "<br> \n",
        "For this, we can consider using a categorical scatterplot with the **.catplot()** method. "
      ]
    },
    {
      "cell_type": "code",
      "metadata": {
        "id": "zw8v_e-hKKdU",
        "colab": {
          "base_uri": "https://localhost:8080/",
          "height": 369
        },
        "outputId": "14f9cd99-8c65-435c-e993-210528cc73ca"
      },
      "source": [
        "sns.catplot(x=\"day\", y=\"total_bill\", data=tips);"
      ],
      "execution_count": null,
      "outputs": [
        {
          "output_type": "display_data",
          "data": {
            "image/png": "[encoded data removed]",
            "text/plain": [
              "<Figure size 360x360 with 1 Axes>"
            ]
          },
          "metadata": {
            "needs_background": "light"
          }
        }
      ]
    },
    {
      "cell_type": "markdown",
      "metadata": {
        "id": "6W0Rxlt1KKdW"
      },
      "source": [
        "We can go even further! How about we try sorting the time of the day that the customer dined at the restaraunt? Let's use the swarm parameter to prevent the points from overlapping and group by time:"
      ]
    },
    {
      "cell_type": "code",
      "metadata": {
        "id": "vp3BnS7UKKdW",
        "colab": {
          "base_uri": "https://localhost:8080/",
          "height": 369
        },
        "outputId": "036005eb-22a0-46f5-b61c-7deed4770d5b"
      },
      "source": [
        "sns.catplot(x=\"total_bill\", y=\"day\", hue=\"time\", kind=\"swarm\", data=tips);"
      ],
      "execution_count": null,
      "outputs": [
        {
          "output_type": "display_data",
          "data": {
            "image/png": "[encoded data removed]",
            "text/plain": [
              "<Figure size 429.625x360 with 1 Axes>"
            ]
          },
          "metadata": {
            "needs_background": "light"
          }
        }
      ]
    },
    {
      "cell_type": "markdown",
      "metadata": {
        "id": "Aij7Gu_lKKdX"
      },
      "source": [
        "To reiterate, the *hue* parameter allows us to add another dimension to group data by color. The *Swarm* parameter helps us to visualize the data more clearly by preventing overlapping points (as opposed to catplot where points with the same data values will lie on top of each other)."
      ]
    },
    {
      "cell_type": "markdown",
      "metadata": {
        "id": "xR4_GYXdKKdX"
      },
      "source": [
        "## Exercise: Seaborn 🐳"
      ]
    },
    {
      "cell_type": "markdown",
      "metadata": {
        "id": "0VYlmLfKKKdX"
      },
      "source": [
        "Time for one of our last exercises!"
      ]
    },
    {
      "cell_type": "markdown",
      "metadata": {
        "id": "tE5KW2hJKKdX"
      },
      "source": [
        "- Create a simple scatterplot comparing size of tip vs. size of table. "
      ]
    },
    {
      "cell_type": "code",
      "metadata": {
        "id": "CBA9c0zJ139G",
        "colab": {
          "base_uri": "https://localhost:8080/",
          "height": 386
        },
        "outputId": "b62b430c-e6b5-4a04-ed5a-b2c1ff288351"
      },
      "source": [
        "# YOUR CODE HERE #\n",
        "sns.catplot(x=\"size\", y=\"total_bill\", data=tips)"
      ],
      "execution_count": null,
      "outputs": [
        {
          "output_type": "execute_result",
          "data": {
            "text/plain": [
              "<seaborn.axisgrid.FacetGrid at 0x7f4c2d0c1ed0>"
            ]
          },
          "metadata": {},
          "execution_count": 26
        },
        {
          "output_type": "display_data",
          "data": {
            "image/png": "[encoded data removed]",
            "text/plain": [
              "<Figure size 360x360 with 1 Axes>"
            ]
          },
          "metadata": {
            "needs_background": "light"
          }
        }
      ]
    },
    {
      "cell_type": "markdown",
      "metadata": {
        "id": "FuPzuDVVKKdX"
      },
      "source": [
        "# Scikit-Learn: A Small Preview 👀"
      ]
    },
    {
      "cell_type": "markdown",
      "metadata": {
        "id": "DVRl5hoNKKdY"
      },
      "source": [
        "**Scikit-learn** is a free software machine learning library for the Python programming language. It features various classification, regression and clustering algorithms including support vector machines, random forests, gradient boosting, k-means and DBSCAN, and is designed to interoperate with the Python numerical and scientific libraries NumPy and SciPy. Official website: https://scikit-learn.org/ <br>\n",
        "We'll be building a simple linear regression in Scikit-Learn to demonstrate how the library works at the base level. "
      ]
    },
    {
      "cell_type": "markdown",
      "metadata": {
        "id": "V7BLSrIJKKdY"
      },
      "source": [
        "## Sneak Peak: Linear Regression 🏡"
      ]
    },
    {
      "cell_type": "markdown",
      "metadata": {
        "id": "NOwFVD4iKKdY"
      },
      "source": [
        "Linear regression is a linear approach to modeling a relationship between an response variable and an explanatory variable. We will study this in detail tomorrow!\n",
        "\n",
        "We'll create a small model that predicts the relationship between expected and true housing prices using the Boston Housing Dataset:"
      ]
    },
    {
      "cell_type": "markdown",
      "metadata": {
        "id": "kTMMlpXQKKdY"
      },
      "source": [
        "## Import 📦 "
      ]
    },
    {
      "cell_type": "code",
      "metadata": {
        "id": "enQickNWKKdY",
        "colab": {
          "base_uri": "https://localhost:8080/"
        },
        "outputId": "f44ddbfc-4323-4de3-85d7-9f6901f59bb1"
      },
      "source": [
        "from sklearn.model_selection import train_test_split\n",
        "from sklearn.linear_model import LinearRegression\n",
        "from sklearn.datasets import load_boston\n",
        "data = load_boston()"
      ],
      "execution_count": null,
      "outputs": [
        {
          "output_type": "stream",
          "name": "stderr",
          "text": [
            "/usr/local/lib/python3.7/dist-packages/sklearn/utils/deprecation.py:87: FutureWarning: Function load_boston is deprecated; `load_boston` is deprecated in 1.0 and will be removed in 1.2.\n",
            "\n",
            "    The Boston housing prices dataset has an ethical problem. You can refer to\n",
            "    the documentation of this function for further details.\n",
            "\n",
            "    The scikit-learn maintainers therefore strongly discourage the use of this\n",
            "    dataset unless the purpose of the code is to study and educate about\n",
            "    ethical issues in data science and machine learning.\n",
            "\n",
            "    In this special case, you can fetch the dataset from the original\n",
            "    source::\n",
            "\n",
            "        import pandas as pd\n",
            "        import numpy as np\n",
            "\n",
            "\n",
            "        data_url = \"http://lib.stat.cmu.edu/datasets/boston\"\n",
            "        raw_df = pd.read_csv(data_url, sep=\"\\s+\", skiprows=22, header=None)\n",
            "        data = np.hstack([raw_df.values[::2, :], raw_df.values[1::2, :2]])\n",
            "        target = raw_df.values[1::2, 2]\n",
            "\n",
            "    Alternative datasets include the California housing dataset (i.e.\n",
            "    :func:`~sklearn.datasets.fetch_california_housing`) and the Ames housing\n",
            "    dataset. You can load the datasets as follows::\n",
            "\n",
            "        from sklearn.datasets import fetch_california_housing\n",
            "        housing = fetch_california_housing()\n",
            "\n",
            "    for the California housing dataset and::\n",
            "\n",
            "        from sklearn.datasets import fetch_openml\n",
            "        housing = fetch_openml(name=\"house_prices\", as_frame=True)\n",
            "\n",
            "    for the Ames housing dataset.\n",
            "    \n",
            "  warnings.warn(msg, category=FutureWarning)\n"
          ]
        }
      ]
    },
    {
      "cell_type": "markdown",
      "metadata": {
        "id": "7Nq4Vr79tPmD"
      },
      "source": [
        "### What is this data?"
      ]
    },
    {
      "cell_type": "code",
      "metadata": {
        "id": "XATXaddItSKK",
        "colab": {
          "base_uri": "https://localhost:8080/"
        },
        "outputId": "00db61b5-7ee0-4f9e-b830-f7ae987e13e2"
      },
      "source": [
        "# Print the description of the dataset (first 1500 characters)\n",
        "print(data.DESCR[:1400])"
      ],
      "execution_count": null,
      "outputs": [
        {
          "output_type": "stream",
          "name": "stdout",
          "text": [
            ".. _boston_dataset:\n",
            "\n",
            "Boston house prices dataset\n",
            "---------------------------\n",
            "\n",
            "**Data Set Characteristics:**  \n",
            "\n",
            "    :Number of Instances: 506 \n",
            "\n",
            "    :Number of Attributes: 13 numeric/categorical predictive. Median Value (attribute 14) is usually the target.\n",
            "\n",
            "    :Attribute Information (in order):\n",
            "        - CRIM     per capita crime rate by town\n",
            "        - ZN       proportion of residential land zoned for lots over 25,000 sq.ft.\n",
            "        - INDUS    proportion of non-retail business acres per town\n",
            "        - CHAS     Charles River dummy variable (= 1 if tract bounds river; 0 otherwise)\n",
            "        - NOX      nitric oxides concentration (parts per 10 million)\n",
            "        - RM       average number of rooms per dwelling\n",
            "        - AGE      proportion of owner-occupied units built prior to 1940\n",
            "        - DIS      weighted distances to five Boston employment centres\n",
            "        - RAD      index of accessibility to radial highways\n",
            "        - TAX      full-value property-tax rate per $10,000\n",
            "        - PTRATIO  pupil-teacher ratio by town\n",
            "        - B        1000(Bk - 0.63)^2 where Bk is the proportion of black people by town\n",
            "        - LSTAT    % lower status of the population\n",
            "        - MEDV     Median value of owner-occupied homes in $1000's\n",
            "\n",
            "    :Missing Attribute Values: None\n",
            "\n",
            "    :Creator: Harrison, D. and Rubinfeld, D.L.\n",
            "\n",
            "This is a copy of UCI ML housing dataset.\n",
            "https://archive.ics.uci.edu/ml/machine-\n"
          ]
        }
      ]
    },
    {
      "cell_type": "code",
      "metadata": {
        "id": "TJqB1X3AuLyz",
        "colab": {
          "base_uri": "https://localhost:8080/"
        },
        "outputId": "100b244f-bbc7-44a8-84c5-378c848a9827"
      },
      "source": [
        "# data.data are all the houses with their attributes.\n",
        "# data.target are the corresponding house prices\n",
        " \n",
        "print(\"House 1, attributes: \", data.data[0])\n",
        "\n",
        "# Show the actual price for these 2 houses\n",
        "print(\"House 1, price: \", data.target[0])"
      ],
      "execution_count": null,
      "outputs": [
        {
          "output_type": "stream",
          "name": "stdout",
          "text": [
            "House 1, attributes:  [6.320e-03 1.800e+01 2.310e+00 0.000e+00 5.380e-01 6.575e+00 6.520e+01\n",
            " 4.090e+00 1.000e+00 2.960e+02 1.530e+01 3.969e+02 4.980e+00]\n",
            "House 1, price:  24.0\n"
          ]
        }
      ]
    },
    {
      "cell_type": "markdown",
      "metadata": {
        "id": "j5vaztG9KKdZ"
      },
      "source": [
        "## Train and Define 🚂 "
      ]
    },
    {
      "cell_type": "markdown",
      "metadata": {
        "id": "uEd9diyUKKdZ"
      },
      "source": [
        "We're going to define our X-axis and Y-axis and fit the model to a Linear Regression model."
      ]
    },
    {
      "cell_type": "code",
      "metadata": {
        "id": "rjwnl-z6KKdZ"
      },
      "source": [
        "X_train, X_test, y_train, y_test = train_test_split(data.data, data.target)\n",
        "clf = LinearRegression()\n",
        "clf.fit(X_train, y_train)\n",
        "predicted = clf.predict(X_test)\n",
        "expected = y_test"
      ],
      "execution_count": null,
      "outputs": []
    },
    {
      "cell_type": "markdown",
      "metadata": {
        "id": "0QdXhrp6KKdZ"
      },
      "source": [
        "## Plot 📊"
      ]
    },
    {
      "cell_type": "code",
      "metadata": {
        "id": "hPaS2_nvKKdZ",
        "colab": {
          "base_uri": "https://localhost:8080/",
          "height": 225
        },
        "outputId": "77af1a33-e60e-4639-d5ba-ec5b5752cfae"
      },
      "source": [
        "plt.figure(figsize=(4, 3))\n",
        "plt.scatter(expected, predicted)\n",
        "plt.plot([0, 50], [0, 50], '--k')\n",
        "plt.axis('tight')\n",
        "plt.xlabel('True price ($1000s)')\n",
        "plt.ylabel('Predicted price ($1000s)')\n",
        "plt.tight_layout()"
      ],
      "execution_count": null,
      "outputs": [
        {
          "output_type": "display_data",
          "data": {
            "image/png": "[encoded data removed]",
            "text/plain": [
              "<Figure size 288x216 with 1 Axes>"
            ]
          },
          "metadata": {
            "needs_background": "light"
          }
        }
      ]
    },
    {
      "cell_type": "markdown",
      "metadata": {
        "id": "iSHOGMQhKKda"
      },
      "source": [
        "Woo! We've just seen a small preview of what Scikit-learn can do. We have the ability to create an accurate ML model with a few lines of code. \n",
        "\n",
        "We hope you learned something useful, and feel more curious to learn more about AI! "
      ]
    }
  ]
}